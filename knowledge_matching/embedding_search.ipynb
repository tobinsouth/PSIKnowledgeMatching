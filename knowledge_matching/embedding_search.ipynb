{
 "cells": [
  {
   "cell_type": "markdown",
   "metadata": {},
   "source": [
    "This file is going to use BEIR to download a dataset and create embeddings "
   ]
  },
  {
   "cell_type": "markdown",
   "metadata": {},
   "source": [
    "# Part 1. embeddings, saving & loading"
   ]
  },
  {
   "cell_type": "code",
   "execution_count": 1,
   "metadata": {},
   "outputs": [],
   "source": [
    "# constants\n",
    "DATASET = \"scifact\"\n",
    "sbert_model_name = \"msmarco-distilbert-base-tas-b\"\n",
    "device = \"cpu\" # cuda for gpu usage\n",
    "#  using full dataset\n",
    "# k_queries = 10000\n",
    "# k_documents = 522931"
   ]
  },
  {
   "cell_type": "code",
   "execution_count": 2,
   "metadata": {},
   "outputs": [
    {
     "name": "stderr",
     "output_type": "stream",
     "text": [
      "/u/tsouth/.local/lib/python3.10/site-packages/beir/util.py:2: TqdmExperimentalWarning: Using `tqdm.autonotebook.tqdm` in notebook mode. Use `tqdm.tqdm` instead to force console mode (e.g. in jupyter console)\n",
      "  from tqdm.autonotebook import tqdm\n",
      "2024-05-01 08:03:40.899796: E tensorflow/compiler/xla/stream_executor/cuda/cuda_dnn.cc:9342] Unable to register cuDNN factory: Attempting to register factory for plugin cuDNN when one has already been registered\n",
      "2024-05-01 08:03:40.899852: E tensorflow/compiler/xla/stream_executor/cuda/cuda_fft.cc:609] Unable to register cuFFT factory: Attempting to register factory for plugin cuFFT when one has already been registered\n",
      "2024-05-01 08:03:40.899909: E tensorflow/compiler/xla/stream_executor/cuda/cuda_blas.cc:1518] Unable to register cuBLAS factory: Attempting to register factory for plugin cuBLAS when one has already been registered\n",
      "2024-05-01 08:03:40.910076: I tensorflow/core/platform/cpu_feature_guard.cc:182] This TensorFlow binary is optimized to use available CPU instructions in performance-critical operations.\n",
      "To enable the following instructions: AVX2 AVX512F FMA, in other operations, rebuild TensorFlow with the appropriate compiler flags.\n",
      "2024-05-01 08:03:48.609290: W tensorflow/compiler/tf2tensorrt/utils/py_utils.cc:38] TF-TRT Warning: Could not find TensorRT\n"
     ]
    }
   ],
   "source": [
    "# import libraries\n",
    "from time import time\n",
    "from beir import util\n",
    "from beir_reengineered import NewSentenceBERT\n",
    "from beir.datasets.data_loader import GenericDataLoader\n",
    "from beir.retrieval.evaluation import EvaluateRetrieval\n",
    "from beir.retrieval.search.dense import DenseRetrievalExactSearch as DRES\n",
    "import os, json, random\n",
    "import pickle\n",
    "import json"
   ]
  },
  {
   "cell_type": "code",
   "execution_count": 3,
   "metadata": {},
   "outputs": [
    {
     "data": {
      "application/json": {
       "ascii": false,
       "bar_format": null,
       "colour": null,
       "elapsed": 0.025547266006469727,
       "initial": 0,
       "n": 0,
       "ncols": null,
       "nrows": null,
       "postfix": null,
       "prefix": "datasets/scifact.zip",
       "rate": null,
       "total": 2816079,
       "unit": "iB",
       "unit_divisor": 1024,
       "unit_scale": true
      },
      "application/vnd.jupyter.widget-view+json": {
       "model_id": "a5d76e4eca384298b196473394b5e1ae",
       "version_major": 2,
       "version_minor": 0
      },
      "text/plain": [
       "datasets/scifact.zip:   0%|          | 0.00/2.69M [00:00<?, ?iB/s]"
      ]
     },
     "metadata": {},
     "output_type": "display_data"
    }
   ],
   "source": [
    "#### Download nfcorpus.zip dataset and unzip the dataset\n",
    "url = \"https://public.ukp.informatik.tu-darmstadt.de/thakur/BEIR/datasets/{}.zip\".format(DATASET)\n",
    "out_dir = \"datasets\"\n",
    "data_path = util.download_and_unzip(url, out_dir)"
   ]
  },
  {
   "cell_type": "code",
   "execution_count": 5,
   "metadata": {},
   "outputs": [
    {
     "data": {
      "application/json": {
       "ascii": false,
       "bar_format": null,
       "colour": null,
       "elapsed": 0.024484872817993164,
       "initial": 0,
       "n": 0,
       "ncols": null,
       "nrows": null,
       "postfix": null,
       "prefix": "",
       "rate": null,
       "total": 5183,
       "unit": "it",
       "unit_divisor": 1000,
       "unit_scale": false
      },
      "application/vnd.jupyter.widget-view+json": {
       "model_id": "741872cf8ff749988d305bc70305d1bc",
       "version_major": 2,
       "version_minor": 0
      },
      "text/plain": [
       "  0%|          | 0/5183 [00:00<?, ?it/s]"
      ]
     },
     "metadata": {},
     "output_type": "display_data"
    }
   ],
   "source": [
    "#### Provide the data path where nfcorpus has been downloaded and unzipped to the data loader\n",
    "# data folder would contain these files:\n",
    "# (1) nfcorpus/corpus.jsonl  (format: jsonlines)\n",
    "# (2) nfcorpus/queries.jsonl (format: jsonlines)\n",
    "# (3) nfcorpus/qrels/test.tsv (format: tsv (\"\\t\"))\n",
    "\n",
    "corpus, queries, qrels = GenericDataLoader(data_folder=data_path).load(split=\"test\")\n"
   ]
  },
  {
   "cell_type": "code",
   "execution_count": 6,
   "metadata": {},
   "outputs": [
    {
     "name": "stdout",
     "output_type": "stream",
     "text": [
      "5183 300\n"
     ]
    }
   ],
   "source": [
    "print(len(corpus), len(queries))"
   ]
  },
  {
   "cell_type": "code",
   "execution_count": 7,
   "metadata": {},
   "outputs": [],
   "source": [
    "#### Dense Retrieval using SBERT (Sentence-BERT) ####\n",
    "#### Provide any pretrained sentence-transformers model\n",
    "#### The model was fine-tuned using cosine-similarity.\n",
    "#### Complete list - https://www.sbert.net/docs/pretrained_models.html\n",
    "\n",
    "beir_sbert = NewSentenceBERT(sbert_model_name, device=device)\n",
    "model = DRES(beir_sbert, batch_size=256, corpus_chunk_size=512*9999)"
   ]
  },
  {
   "cell_type": "code",
   "execution_count": 9,
   "metadata": {},
   "outputs": [],
   "source": [
    "# # Create sub-sample\n",
    "# subset_of_queries = random.sample(queries.keys(), k_queries)\n",
    "# queries = {qid: queries[qid] for qid in subset_of_queries}\n",
    "# qrels = {qid: qrels[qid] for qid in subset_of_queries}\n",
    "# true_documents = set([docid for qid in qrels for docid in qrels[qid]])\n",
    "# false_documents = set(random.sample(list(set([docid for docid in corpus if docid not in true_documents])), k_documents))\n",
    "# subset_of_corpus = true_documents | false_documents\n",
    "# corpus = {docid: corpus[docid] for docid in subset_of_corpus}"
   ]
  },
  {
   "cell_type": "code",
   "execution_count": 10,
   "metadata": {},
   "outputs": [],
   "source": [
    "# qrels"
   ]
  },
  {
   "cell_type": "code",
   "execution_count": 8,
   "metadata": {},
   "outputs": [],
   "source": [
    "# Save qrels to a JSON file\n",
    "with open(\"datasets/scifact/qrels_full.json\", \"w\") as f:\n",
    "    json.dump(qrels, f)\n",
    "\n",
    "# with open(\"datasets/scifact/qrels_half_new.json\", \"r\") as f:\n",
    "#     qrels_json = json.load(f)\n",
    "# qrels_json\n"
   ]
  },
  {
   "cell_type": "code",
   "execution_count": null,
   "metadata": {},
   "outputs": [],
   "source": []
  },
  {
   "cell_type": "code",
   "execution_count": 9,
   "metadata": {},
   "outputs": [
    {
     "data": {
      "application/json": {
       "ascii": false,
       "bar_format": null,
       "colour": null,
       "elapsed": 0.0262451171875,
       "initial": 0,
       "n": 0,
       "ncols": null,
       "nrows": null,
       "postfix": null,
       "prefix": "Batches",
       "rate": null,
       "total": 2,
       "unit": "it",
       "unit_divisor": 1000,
       "unit_scale": false
      },
      "application/vnd.jupyter.widget-view+json": {
       "model_id": "bc981f27cd7b4ddda8076ac17d4534d0",
       "version_major": 2,
       "version_minor": 0
      },
      "text/plain": [
       "Batches:   0%|          | 0/2 [00:00<?, ?it/s]"
      ]
     },
     "metadata": {},
     "output_type": "display_data"
    }
   ],
   "source": [
    "# Encode queries\n",
    "queries_l = [queries[qid] for qid in queries]\n",
    "query_embeddings = model.model.encode_queries(\n",
    "    queries_l,\n",
    "    batch_size=model.batch_size,\n",
    "    show_progress_bar=model.show_progress_bar,\n",
    "    convert_to_tensor=model.convert_to_tensor\n",
    ").cpu().numpy()"
   ]
  },
  {
   "cell_type": "code",
   "execution_count": 10,
   "metadata": {},
   "outputs": [
    {
     "data": {
      "application/json": {
       "ascii": false,
       "bar_format": null,
       "colour": null,
       "elapsed": 0.017611980438232422,
       "initial": 0,
       "n": 0,
       "ncols": null,
       "nrows": null,
       "postfix": null,
       "prefix": "Batches",
       "rate": null,
       "total": 21,
       "unit": "it",
       "unit_divisor": 1000,
       "unit_scale": false
      },
      "application/vnd.jupyter.widget-view+json": {
       "model_id": "60019b4aae184290a808a03ebe301e07",
       "version_major": 2,
       "version_minor": 0
      },
      "text/plain": [
       "Batches:   0%|          | 0/21 [00:00<?, ?it/s]"
      ]
     },
     "metadata": {},
     "output_type": "display_data"
    }
   ],
   "source": [
    "# Encode documents\n",
    "corpus_ids = sorted(corpus, key=lambda k: len(corpus[k].get(\"title\", \"\") + corpus[k].get(\"text\", \"\")), reverse=True)\n",
    "corpus_l = [corpus[cid] for cid in corpus_ids]\n",
    "sub_corpus_embeddings = model.model.encode_corpus(\n",
    "    corpus_l,\n",
    "    batch_size=model.batch_size,\n",
    "    show_progress_bar=model.show_progress_bar,\n",
    "    convert_to_tensor=model.convert_to_tensor\n",
    ").cpu().numpy()"
   ]
  },
  {
   "cell_type": "code",
   "execution_count": null,
   "metadata": {},
   "outputs": [],
   "source": [
    "# Save as new dataset\n",
    "os.makedirs(\"datasets/scifact/qrels\", exist_ok=True)\n",
    "with open(\"datasets/scifact/queries.jsonl\", \"w\") as f:\n",
    "    f.writelines([json.dumps({\"_id\": qid, \"text\": queries[qid], \"metadata\":{}})+\"\\n\" for qid in queries])\n",
    "with open(\"datasets/scifact/corpus.jsonl\", \"w\") as f:\n",
    "    f.writelines([json.dumps({\"_id\": docid, \"title\": corpus[docid].get(\"title\"), \"text\": corpus[docid].get(\"text\"), \"metadata\":{}})+\"\\n\" for docid in corpus])\n",
    "with open(\"datasets/scifact/qrels/test.tsv\", \"w\") as f:\n",
    "    f.write(\"query-id\\tcorpus-id\\tscore\\n\")\n",
    "    for qid in qrels:\n",
    "        for docid in qrels[qid]:\n",
    "            f.write(\"{}\\t{}\\t{}\\n\".format(qid, docid, qrels[qid][docid]))"
   ]
  },
  {
   "cell_type": "code",
   "execution_count": null,
   "metadata": {},
   "outputs": [],
   "source": [
    "# # Save embeddings\n",
    "corpus_embeddings_dict = dict(zip(corpus_ids, sub_corpus_embeddings))\n",
    "query_embeddings_dict = dict(zip(queries.keys(), query_embeddings))\n",
    "import pickle\n",
    "\n",
    "with open(\"datasets/scifact/corpus_embeddings_full.pkl\", \"wb\") as f:\n",
    "    pickle.dump(corpus_embeddings_dict, f)\n",
    "with open(\"datasets/scifact/query_embeddings_full.pkl\", \"wb\") as f:\n",
    "    pickle.dump(query_embeddings_dict, f)"
   ]
  },
  {
   "cell_type": "markdown",
   "metadata": {},
   "source": [
    "10th of data\n",
    "k_queries = 1000\n",
    "k_documents = 52293\n",
    "\n",
    "quater of data\n",
    "k_queries = 2500\n",
    "k_documents = 130732\n",
    "\n",
    "half of data \n",
    "k_queries = 5000\n",
    "k_documents = 261465"
   ]
  },
  {
   "cell_type": "markdown",
   "metadata": {},
   "source": [
    "# Part 2. (only sometimes) round embeddings"
   ]
  },
  {
   "cell_type": "code",
   "execution_count": 20,
   "metadata": {},
   "outputs": [],
   "source": [
    "from beir.retrieval.search import BaseSearch # type: ignore beir/retrieval/search/dense/exact_search.py\n",
    "from beir.util import cos_sim\n",
    "import torch # type: ignore\n",
    "import numpy as np\n",
    "from typing import Dict\n",
    "import heapq\n",
    "import logging\n",
    "logger = logging.getLogger(__name__)"
   ]
  },
  {
   "cell_type": "code",
   "execution_count": 21,
   "metadata": {},
   "outputs": [],
   "source": [
    "#TODO: refactor to have base class with rounding and noise\n",
    "\n",
    "# ExperiementRetrievalExactSearch is parent class for any model we are using for our experiement that can be used for retrieval\n",
    "# Abstract class is BaseSearch\n",
    "class ExperiementRetrievalExactSearch(BaseSearch):\n",
    "    def __init__(\n",
    "            self,\n",
    "            model,\n",
    "            path_corpus_embeddings: str,\n",
    "            path_query_embeddings: str,\n",
    "            **kwargs):\n",
    "        #model is class should do nothing\n",
    "        self.model = model\n",
    "        self.path_corpus_embeddings = path_corpus_embeddings\n",
    "        self.path_query_embeddings = path_query_embeddings\n",
    "        self.show_progress_bar = kwargs.get(\"show_progress_bar\", True)\n",
    "        self.convert_to_tensor = kwargs.get(\"convert_to_tensor\", True)\n",
    "        self.results = {}\n",
    "\n",
    "        logger.info(\"Load in Encoded Queries and Corpus from Pickle...\")\n",
    "        # Verify file existence\n",
    "        if not os.path.exists(self.path_corpus_embeddings):\n",
    "            raise FileNotFoundError(f\"File '{self.path_corpus_embeddings}' not found.\")\n",
    "        if not os.path.exists(self.path_query_embeddings):\n",
    "            raise FileNotFoundError(f\"File '{self.path_query_embeddings}' not found.\")\n",
    "\n",
    "        with open(self.path_query_embeddings, \"rb\") as f:\n",
    "            self.query_embeddings = pickle.load(f)\n",
    "\n",
    "        with open(self.path_corpus_embeddings, \"rb\") as f:\n",
    "            self.corpus_embeddings = pickle.load(f)\n",
    "\n",
    "\n",
    "\n",
    "    def add_rounding(self, rounding_decimal: int) -> None:\n",
    "        # rounding decimal\n",
    "        if rounding_decimal < 12:\n",
    "            logger.info(\"Rounding decimal places of Queries and Corpus...\")\n",
    "            for key, value in self.query_embeddings.items():\n",
    "                self.query_embeddings[key] = np.round(value, decimals=rounding_decimal)\n",
    "\n",
    "            for key, value in self.corpus_embeddings.items():\n",
    "                self.corpus_embeddings[key] = np.round(value, decimals=rounding_decimal)\n",
    "\n",
    "    def add_noise(self, rounding_decimal: int) -> None:\n",
    "        logger.info(\"Adding Noise to Queries and Corpus...\")\n",
    "        for key, value in self.query_embeddings.items():\n",
    "            self.query_embeddings[key] += np.random.random() / 10**rounding_decimal\n",
    "\n",
    "        for key, value in self.corpus_embeddings.items():\n",
    "            self.corpus_embeddings[key] += np.random.random() / 10**rounding_decimal\n",
    "\n",
    "\n",
    "    def search(self,\n",
    "               corpus: Dict[str, Dict[str, str]],\n",
    "               queries: Dict[str, str],\n",
    "               top_k: int,\n",
    "               score_function: str,\n",
    "               return_sorted: bool = False,\n",
    "               **kwargs) -> Dict[str, Dict[str, float]]:\n",
    "        # Runs semantic search against the corpus embeddings\n",
    "        # Returns a ranked list with the corpus ids\n",
    "\n",
    "        query_ids = list(self.query_embeddings.keys())\n",
    "        self.results = {qid: {} for qid in query_ids}\n",
    "\n",
    "        # print(\"Sorting Corpus by document length (Longest first)...\")\n",
    "        logger.info(\"Sorting Corpus by document length (Longest first)...\")\n",
    "        corpus_ids = sorted(list(self.corpus_embeddings.keys()), reverse=True)\n",
    "\n",
    "        result_heaps = {qid: [] for qid in query_ids}  # Keep only the top-k docs for each query\n",
    "\n",
    "        # Convert dictionary values to PyTorch tensors\n",
    "        corpus_tensors = [torch.tensor(embedding) for embedding in self.corpus_embeddings.values()]\n",
    "        query_tensors = [torch.tensor(embedding) for embedding in self.query_embeddings.values()]\n",
    "        # Stack tensors along a new dimension (batch dimension)\n",
    "        corpus_embeddings_tensor = torch.stack(corpus_tensors)\n",
    "        query_embeddings_tensor = torch.stack(query_tensors)\n",
    "\n",
    "        # print(\"Compute similarites using  cosine-similarity\")\n",
    "        # Compute similarites using  cosine-similarity\n",
    "        cos_scores = cos_sim(query_embeddings_tensor, corpus_embeddings_tensor)\n",
    "        cos_scores[torch.isnan(cos_scores)] = -1\n",
    "\n",
    "        # print(\"Get top-k values\")\n",
    "        # Get top-k values\n",
    "        cos_scores_top_k_values, cos_scores_top_k_idx = torch.topk(cos_scores, min(top_k+1, len(cos_scores[1])), dim=1, largest=True, sorted=return_sorted)\n",
    "        cos_scores_top_k_values = cos_scores_top_k_values.cpu().tolist()\n",
    "        cos_scores_top_k_idx = cos_scores_top_k_idx.cpu().tolist()\n",
    "\n",
    "        # print(\"build heap\")\n",
    "        for query_itr in range(len(query_embeddings_tensor)):\n",
    "            query_id = query_ids[query_itr]\n",
    "            for sub_corpus_id, score in zip(cos_scores_top_k_idx[query_itr], cos_scores_top_k_values[query_itr]):\n",
    "                corpus_id = corpus_ids[sub_corpus_id]\n",
    "                if corpus_id != query_id:\n",
    "                    if len(result_heaps[query_id]) < top_k:\n",
    "                        # Push item on the heap\n",
    "                        heapq.heappush(result_heaps[query_id], (score, corpus_id))\n",
    "                    else:\n",
    "                        # If item is larger than the smallest in the heap, push it on the heap then pop the smallest element\n",
    "                        heapq.heappushpop(result_heaps[query_id], (score, corpus_id))\n",
    "\n",
    "        print(\"get results heaps\")\n",
    "        for qid in result_heaps:\n",
    "            for score, corpus_id in result_heaps[qid]:\n",
    "                self.results[qid][corpus_id] = score\n",
    "\n",
    "        return self.results"
   ]
  },
  {
   "cell_type": "code",
   "execution_count": null,
   "metadata": {},
   "outputs": [],
   "source": []
  },
  {
   "cell_type": "code",
   "execution_count": 22,
   "metadata": {},
   "outputs": [],
   "source": [
    "# #### Load the SBERT model and retrieve using cosine-similarity\n",
    "# model = ExperiementRetrievalExactSearch(beir_sbert)\n",
    "# retriever = EvaluateRetrieval(model, score_function=\"cos_sim\") # or \"cos_sim\" for cosine similarity\n",
    "# results = retriever.retrieve(corpus, queries)\n",
    "\n"
   ]
  },
  {
   "cell_type": "code",
   "execution_count": 23,
   "metadata": {},
   "outputs": [],
   "source": [
    "# #### Evaluate your model with NDCG@k, MAP@K, Recall@K and Precision@K  where k = [1,3,5,10,100,1000]\n",
    "# ndcg, _map, recall, precision = retriever.evaluate(qrels, results, retriever.k_values)\n",
    "# print(ndcg, _map, recall, precision )"
   ]
  },
  {
   "cell_type": "code",
   "execution_count": 24,
   "metadata": {},
   "outputs": [],
   "source": [
    "beir_sbert = NewSentenceBERT(sbert_model_name, device=device)"
   ]
  },
  {
   "cell_type": "code",
   "execution_count": 25,
   "metadata": {},
   "outputs": [
    {
     "name": "stdout",
     "output_type": "stream",
     "text": [
      "here\n",
      "12 <class 'int'>\n",
      "after add_rounding\n",
      "after EvaluateRetrieval\n",
      "get results heaps\n",
      "after retrieve\n",
      "decimal_places: 12 {'NDCG@1': 0.0, 'NDCG@3': 0.0, 'NDCG@5': 0.0, 'NDCG@10': 1e-05, 'NDCG@100': 5e-05, 'NDCG@1000': 0.00027} {'MAP@1': 0.0, 'MAP@3': 0.0, 'MAP@5': 0.0, 'MAP@10': 0.0, 'MAP@100': 1e-05, 'MAP@1000': 1e-05} {'Recall@1': 0.0, 'Recall@3': 0.0, 'Recall@5': 0.0, 'Recall@10': 2e-05, 'Recall@100': 0.00023, 'Recall@1000': 0.00193} {'P@1': 0.0, 'P@3': 0.0, 'P@5': 0.0, 'P@10': 1e-05, 'P@100': 0.0, 'P@1000': 0.0}\n",
      "11 <class 'int'>\n",
      "after add_rounding\n",
      "after EvaluateRetrieval\n",
      "get results heaps\n",
      "after retrieve\n",
      "decimal_places: 11 {'NDCG@1': 0.0, 'NDCG@3': 0.0, 'NDCG@5': 0.0, 'NDCG@10': 1e-05, 'NDCG@100': 5e-05, 'NDCG@1000': 0.00027} {'MAP@1': 0.0, 'MAP@3': 0.0, 'MAP@5': 0.0, 'MAP@10': 0.0, 'MAP@100': 1e-05, 'MAP@1000': 1e-05} {'Recall@1': 0.0, 'Recall@3': 0.0, 'Recall@5': 0.0, 'Recall@10': 2e-05, 'Recall@100': 0.00023, 'Recall@1000': 0.00193} {'P@1': 0.0, 'P@3': 0.0, 'P@5': 0.0, 'P@10': 1e-05, 'P@100': 0.0, 'P@1000': 0.0}\n",
      "10 <class 'int'>\n",
      "after add_rounding\n",
      "after EvaluateRetrieval\n",
      "get results heaps\n",
      "after retrieve\n",
      "decimal_places: 10 {'NDCG@1': 0.0, 'NDCG@3': 0.0, 'NDCG@5': 0.0, 'NDCG@10': 1e-05, 'NDCG@100': 5e-05, 'NDCG@1000': 0.00027} {'MAP@1': 0.0, 'MAP@3': 0.0, 'MAP@5': 0.0, 'MAP@10': 0.0, 'MAP@100': 1e-05, 'MAP@1000': 1e-05} {'Recall@1': 0.0, 'Recall@3': 0.0, 'Recall@5': 0.0, 'Recall@10': 2e-05, 'Recall@100': 0.00023, 'Recall@1000': 0.00193} {'P@1': 0.0, 'P@3': 0.0, 'P@5': 0.0, 'P@10': 1e-05, 'P@100': 0.0, 'P@1000': 0.0}\n",
      "9 <class 'int'>\n",
      "after add_rounding\n",
      "after EvaluateRetrieval\n",
      "get results heaps\n",
      "after retrieve\n",
      "decimal_places: 9 {'NDCG@1': 0.0, 'NDCG@3': 0.0, 'NDCG@5': 0.0, 'NDCG@10': 1e-05, 'NDCG@100': 5e-05, 'NDCG@1000': 0.00027} {'MAP@1': 0.0, 'MAP@3': 0.0, 'MAP@5': 0.0, 'MAP@10': 0.0, 'MAP@100': 1e-05, 'MAP@1000': 1e-05} {'Recall@1': 0.0, 'Recall@3': 0.0, 'Recall@5': 0.0, 'Recall@10': 2e-05, 'Recall@100': 0.00023, 'Recall@1000': 0.00193} {'P@1': 0.0, 'P@3': 0.0, 'P@5': 0.0, 'P@10': 1e-05, 'P@100': 0.0, 'P@1000': 0.0}\n",
      "8 <class 'int'>\n",
      "after add_rounding\n",
      "after EvaluateRetrieval\n",
      "get results heaps\n",
      "after retrieve\n",
      "decimal_places: 8 {'NDCG@1': 0.0, 'NDCG@3': 0.0, 'NDCG@5': 0.0, 'NDCG@10': 1e-05, 'NDCG@100': 5e-05, 'NDCG@1000': 0.00027} {'MAP@1': 0.0, 'MAP@3': 0.0, 'MAP@5': 0.0, 'MAP@10': 0.0, 'MAP@100': 1e-05, 'MAP@1000': 1e-05} {'Recall@1': 0.0, 'Recall@3': 0.0, 'Recall@5': 0.0, 'Recall@10': 2e-05, 'Recall@100': 0.00023, 'Recall@1000': 0.00193} {'P@1': 0.0, 'P@3': 0.0, 'P@5': 0.0, 'P@10': 1e-05, 'P@100': 0.0, 'P@1000': 0.0}\n",
      "7 <class 'int'>\n",
      "after add_rounding\n",
      "after EvaluateRetrieval\n",
      "get results heaps\n",
      "after retrieve\n",
      "decimal_places: 7 {'NDCG@1': 0.0, 'NDCG@3': 0.0, 'NDCG@5': 0.0, 'NDCG@10': 1e-05, 'NDCG@100': 5e-05, 'NDCG@1000': 0.00027} {'MAP@1': 0.0, 'MAP@3': 0.0, 'MAP@5': 0.0, 'MAP@10': 0.0, 'MAP@100': 1e-05, 'MAP@1000': 1e-05} {'Recall@1': 0.0, 'Recall@3': 0.0, 'Recall@5': 0.0, 'Recall@10': 2e-05, 'Recall@100': 0.00023, 'Recall@1000': 0.00193} {'P@1': 0.0, 'P@3': 0.0, 'P@5': 0.0, 'P@10': 1e-05, 'P@100': 0.0, 'P@1000': 0.0}\n",
      "6 <class 'int'>\n",
      "after add_rounding\n",
      "after EvaluateRetrieval\n",
      "get results heaps\n",
      "after retrieve\n",
      "decimal_places: 6 {'NDCG@1': 0.0, 'NDCG@3': 0.0, 'NDCG@5': 0.0, 'NDCG@10': 1e-05, 'NDCG@100': 5e-05, 'NDCG@1000': 0.00027} {'MAP@1': 0.0, 'MAP@3': 0.0, 'MAP@5': 0.0, 'MAP@10': 0.0, 'MAP@100': 1e-05, 'MAP@1000': 1e-05} {'Recall@1': 0.0, 'Recall@3': 0.0, 'Recall@5': 0.0, 'Recall@10': 2e-05, 'Recall@100': 0.00023, 'Recall@1000': 0.00193} {'P@1': 0.0, 'P@3': 0.0, 'P@5': 0.0, 'P@10': 1e-05, 'P@100': 0.0, 'P@1000': 0.0}\n",
      "5 <class 'int'>\n",
      "after add_rounding\n",
      "after EvaluateRetrieval\n",
      "get results heaps\n",
      "after retrieve\n",
      "decimal_places: 5 {'NDCG@1': 0.0, 'NDCG@3': 0.0, 'NDCG@5': 0.0, 'NDCG@10': 1e-05, 'NDCG@100': 5e-05, 'NDCG@1000': 0.00027} {'MAP@1': 0.0, 'MAP@3': 0.0, 'MAP@5': 0.0, 'MAP@10': 0.0, 'MAP@100': 1e-05, 'MAP@1000': 1e-05} {'Recall@1': 0.0, 'Recall@3': 0.0, 'Recall@5': 0.0, 'Recall@10': 2e-05, 'Recall@100': 0.00023, 'Recall@1000': 0.00193} {'P@1': 0.0, 'P@3': 0.0, 'P@5': 0.0, 'P@10': 1e-05, 'P@100': 0.0, 'P@1000': 0.0}\n",
      "4 <class 'int'>\n",
      "after add_rounding\n",
      "after EvaluateRetrieval\n",
      "get results heaps\n",
      "after retrieve\n",
      "decimal_places: 4 {'NDCG@1': 0.0, 'NDCG@3': 0.0, 'NDCG@5': 0.0, 'NDCG@10': 1e-05, 'NDCG@100': 5e-05, 'NDCG@1000': 0.00027} {'MAP@1': 0.0, 'MAP@3': 0.0, 'MAP@5': 0.0, 'MAP@10': 0.0, 'MAP@100': 1e-05, 'MAP@1000': 1e-05} {'Recall@1': 0.0, 'Recall@3': 0.0, 'Recall@5': 0.0, 'Recall@10': 2e-05, 'Recall@100': 0.00023, 'Recall@1000': 0.00193} {'P@1': 0.0, 'P@3': 0.0, 'P@5': 0.0, 'P@10': 1e-05, 'P@100': 0.0, 'P@1000': 0.0}\n",
      "3 <class 'int'>\n",
      "after add_rounding\n",
      "after EvaluateRetrieval\n",
      "get results heaps\n",
      "after retrieve\n",
      "decimal_places: 3 {'NDCG@1': 0.0, 'NDCG@3': 0.0, 'NDCG@5': 0.0, 'NDCG@10': 1e-05, 'NDCG@100': 5e-05, 'NDCG@1000': 0.00027} {'MAP@1': 0.0, 'MAP@3': 0.0, 'MAP@5': 0.0, 'MAP@10': 0.0, 'MAP@100': 1e-05, 'MAP@1000': 1e-05} {'Recall@1': 0.0, 'Recall@3': 0.0, 'Recall@5': 0.0, 'Recall@10': 2e-05, 'Recall@100': 0.00023, 'Recall@1000': 0.00193} {'P@1': 0.0, 'P@3': 0.0, 'P@5': 0.0, 'P@10': 1e-05, 'P@100': 0.0, 'P@1000': 0.0}\n",
      "2 <class 'int'>\n",
      "after add_rounding\n",
      "after EvaluateRetrieval\n",
      "get results heaps\n",
      "after retrieve\n",
      "decimal_places: 2 {'NDCG@1': 0.0, 'NDCG@3': 0.0, 'NDCG@5': 0.0, 'NDCG@10': 1e-05, 'NDCG@100': 5e-05, 'NDCG@1000': 0.00027} {'MAP@1': 0.0, 'MAP@3': 0.0, 'MAP@5': 0.0, 'MAP@10': 0.0, 'MAP@100': 1e-05, 'MAP@1000': 1e-05} {'Recall@1': 0.0, 'Recall@3': 0.0, 'Recall@5': 0.0, 'Recall@10': 2e-05, 'Recall@100': 0.00023, 'Recall@1000': 0.00193} {'P@1': 0.0, 'P@3': 0.0, 'P@5': 0.0, 'P@10': 1e-05, 'P@100': 0.0, 'P@1000': 0.0}\n",
      "1 <class 'int'>\n",
      "after add_rounding\n",
      "after EvaluateRetrieval\n",
      "get results heaps\n",
      "after retrieve\n",
      "decimal_places: 1 {'NDCG@1': 0.0, 'NDCG@3': 0.0, 'NDCG@5': 0.0, 'NDCG@10': 1e-05, 'NDCG@100': 5e-05, 'NDCG@1000': 0.00027} {'MAP@1': 0.0, 'MAP@3': 0.0, 'MAP@5': 0.0, 'MAP@10': 0.0, 'MAP@100': 1e-05, 'MAP@1000': 1e-05} {'Recall@1': 0.0, 'Recall@3': 0.0, 'Recall@5': 0.0, 'Recall@10': 2e-05, 'Recall@100': 0.00023, 'Recall@1000': 0.00184} {'P@1': 0.0, 'P@3': 0.0, 'P@5': 0.0, 'P@10': 1e-05, 'P@100': 0.0, 'P@1000': 0.0}\n",
      "0 <class 'int'>\n",
      "after add_rounding\n",
      "after EvaluateRetrieval\n",
      "get results heaps\n",
      "after retrieve\n",
      "decimal_places: 0 {'NDCG@1': 0.0, 'NDCG@3': 0.0, 'NDCG@5': 0.0, 'NDCG@10': 1e-05, 'NDCG@100': 8e-05, 'NDCG@1000': 0.00027} {'MAP@1': 0.0, 'MAP@3': 0.0, 'MAP@5': 0.0, 'MAP@10': 0.0, 'MAP@100': 1e-05, 'MAP@1000': 1e-05} {'Recall@1': 0.0, 'Recall@3': 0.0, 'Recall@5': 0.0, 'Recall@10': 2e-05, 'Recall@100': 0.00038, 'Recall@1000': 0.00185} {'P@1': 0.0, 'P@3': 0.0, 'P@5': 0.0, 'P@10': 1e-05, 'P@100': 1e-05, 'P@1000': 0.0}\n"
     ]
    }
   ],
   "source": [
    "model = ExperiementRetrievalExactSearch(\n",
    "    beir_sbert,\n",
    "    path_corpus_embeddings = \"datasets/scifact/corpus_embeddings_full.pkl\",\n",
    "    path_query_embeddings= \"datasets/scifact/query_embeddings_full.pkl\") # This can go outside the loop\n",
    "\n",
    "print(\"here\")\n",
    "with open(\"datasets/scifact/qrels_full.json\", \"r\") as f:\n",
    "    qrels = json.load(f)\n",
    "\n",
    "with open(\"datasets/scifact/query_embeddings_full.pkl\", \"rb\") as f:\n",
    "    query_embeddings = pickle.load(f)\n",
    "\n",
    "with open(\"datasets/scifact/corpus_embeddings_full.pkl\", \"rb\") as f:\n",
    "    corpus_embeddings = pickle.load(f)\n",
    "\n",
    "\n",
    "rounding_recalls = []\n",
    "rounding_decimals = range(12,-1,-1)\n",
    "for decimal in rounding_decimals:\n",
    "    print(decimal, type(decimal))\n",
    "    model.add_rounding(decimal)\n",
    "    print(\"after add_rounding\")\n",
    "    retriever = EvaluateRetrieval(model, score_function=\"cos_sim\")\n",
    "    print(\"after EvaluateRetrieval\")\n",
    "    # print(model.corpus_embeddings, model.query_embeddings)\n",
    "    # issue maybe you have to pass the correct corpus and queries in\n",
    "    results = retriever.retrieve(corpus_embeddings, query_embeddings)\n",
    "    print(\"after retrieve\")\n",
    "    ndcg, _map, recall, precision = retriever.evaluate(qrels, results, retriever.k_values)\n",
    "    print(\"decimal_places:\", decimal , ndcg, _map, recall, precision )\n",
    "    #recall@100 matters mostr, save to array for plotting\n",
    "    rounding_recalls.append(recall)\n"
   ]
  },
  {
   "cell_type": "code",
   "execution_count": 26,
   "metadata": {},
   "outputs": [
    {
     "name": "stdout",
     "output_type": "stream",
     "text": [
      "get results heaps\n",
      "noise decimal: 12 {'NDCG@1': 0.0, 'NDCG@3': 0.0, 'NDCG@5': 0.0, 'NDCG@10': 1e-05, 'NDCG@100': 8e-05, 'NDCG@1000': 0.00027} {'MAP@1': 0.0, 'MAP@3': 0.0, 'MAP@5': 0.0, 'MAP@10': 0.0, 'MAP@100': 1e-05, 'MAP@1000': 1e-05} {'Recall@1': 0.0, 'Recall@3': 0.0, 'Recall@5': 0.0, 'Recall@10': 2e-05, 'Recall@100': 0.00038, 'Recall@1000': 0.00185} {'P@1': 0.0, 'P@3': 0.0, 'P@5': 0.0, 'P@10': 1e-05, 'P@100': 1e-05, 'P@1000': 0.0}\n",
      "get results heaps\n",
      "noise decimal: 11 {'NDCG@1': 0.0, 'NDCG@3': 0.0, 'NDCG@5': 0.0, 'NDCG@10': 1e-05, 'NDCG@100': 8e-05, 'NDCG@1000': 0.00027} {'MAP@1': 0.0, 'MAP@3': 0.0, 'MAP@5': 0.0, 'MAP@10': 0.0, 'MAP@100': 1e-05, 'MAP@1000': 1e-05} {'Recall@1': 0.0, 'Recall@3': 0.0, 'Recall@5': 0.0, 'Recall@10': 2e-05, 'Recall@100': 0.00038, 'Recall@1000': 0.00185} {'P@1': 0.0, 'P@3': 0.0, 'P@5': 0.0, 'P@10': 1e-05, 'P@100': 1e-05, 'P@1000': 0.0}\n",
      "get results heaps\n",
      "noise decimal: 10 {'NDCG@1': 0.0, 'NDCG@3': 0.0, 'NDCG@5': 0.0, 'NDCG@10': 1e-05, 'NDCG@100': 8e-05, 'NDCG@1000': 0.00027} {'MAP@1': 0.0, 'MAP@3': 0.0, 'MAP@5': 0.0, 'MAP@10': 0.0, 'MAP@100': 1e-05, 'MAP@1000': 1e-05} {'Recall@1': 0.0, 'Recall@3': 0.0, 'Recall@5': 0.0, 'Recall@10': 2e-05, 'Recall@100': 0.00038, 'Recall@1000': 0.00185} {'P@1': 0.0, 'P@3': 0.0, 'P@5': 0.0, 'P@10': 1e-05, 'P@100': 1e-05, 'P@1000': 0.0}\n",
      "get results heaps\n",
      "noise decimal: 9 {'NDCG@1': 0.0, 'NDCG@3': 0.0, 'NDCG@5': 0.0, 'NDCG@10': 1e-05, 'NDCG@100': 8e-05, 'NDCG@1000': 0.00027} {'MAP@1': 0.0, 'MAP@3': 0.0, 'MAP@5': 0.0, 'MAP@10': 0.0, 'MAP@100': 1e-05, 'MAP@1000': 1e-05} {'Recall@1': 0.0, 'Recall@3': 0.0, 'Recall@5': 0.0, 'Recall@10': 2e-05, 'Recall@100': 0.00038, 'Recall@1000': 0.00185} {'P@1': 0.0, 'P@3': 0.0, 'P@5': 0.0, 'P@10': 1e-05, 'P@100': 1e-05, 'P@1000': 0.0}\n",
      "get results heaps\n",
      "noise decimal: 8 {'NDCG@1': 0.0, 'NDCG@3': 0.0, 'NDCG@5': 0.0, 'NDCG@10': 1e-05, 'NDCG@100': 8e-05, 'NDCG@1000': 0.00027} {'MAP@1': 0.0, 'MAP@3': 0.0, 'MAP@5': 0.0, 'MAP@10': 0.0, 'MAP@100': 1e-05, 'MAP@1000': 1e-05} {'Recall@1': 0.0, 'Recall@3': 0.0, 'Recall@5': 0.0, 'Recall@10': 2e-05, 'Recall@100': 0.00038, 'Recall@1000': 0.00185} {'P@1': 0.0, 'P@3': 0.0, 'P@5': 0.0, 'P@10': 1e-05, 'P@100': 1e-05, 'P@1000': 0.0}\n",
      "get results heaps\n",
      "noise decimal: 7 {'NDCG@1': 0.0, 'NDCG@3': 0.0, 'NDCG@5': 0.0, 'NDCG@10': 1e-05, 'NDCG@100': 7e-05, 'NDCG@1000': 0.00027} {'MAP@1': 0.0, 'MAP@3': 0.0, 'MAP@5': 0.0, 'MAP@10': 0.0, 'MAP@100': 1e-05, 'MAP@1000': 1e-05} {'Recall@1': 0.0, 'Recall@3': 0.0, 'Recall@5': 0.0, 'Recall@10': 2e-05, 'Recall@100': 0.00038, 'Recall@1000': 0.00185} {'P@1': 0.0, 'P@3': 0.0, 'P@5': 0.0, 'P@10': 1e-05, 'P@100': 1e-05, 'P@1000': 0.0}\n",
      "get results heaps\n",
      "noise decimal: 6 {'NDCG@1': 0.0, 'NDCG@3': 0.0, 'NDCG@5': 0.0, 'NDCG@10': 1e-05, 'NDCG@100': 8e-05, 'NDCG@1000': 0.00027} {'MAP@1': 0.0, 'MAP@3': 0.0, 'MAP@5': 0.0, 'MAP@10': 0.0, 'MAP@100': 1e-05, 'MAP@1000': 1e-05} {'Recall@1': 0.0, 'Recall@3': 0.0, 'Recall@5': 0.0, 'Recall@10': 2e-05, 'Recall@100': 0.00038, 'Recall@1000': 0.00185} {'P@1': 0.0, 'P@3': 0.0, 'P@5': 0.0, 'P@10': 1e-05, 'P@100': 1e-05, 'P@1000': 0.0}\n",
      "get results heaps\n",
      "noise decimal: 5 {'NDCG@1': 0.0, 'NDCG@3': 0.0, 'NDCG@5': 0.0, 'NDCG@10': 1e-05, 'NDCG@100': 6e-05, 'NDCG@1000': 0.00027} {'MAP@1': 0.0, 'MAP@3': 0.0, 'MAP@5': 0.0, 'MAP@10': 0.0, 'MAP@100': 1e-05, 'MAP@1000': 1e-05} {'Recall@1': 0.0, 'Recall@3': 0.0, 'Recall@5': 0.0, 'Recall@10': 2e-05, 'Recall@100': 0.00028, 'Recall@1000': 0.00193} {'P@1': 0.0, 'P@3': 0.0, 'P@5': 0.0, 'P@10': 1e-05, 'P@100': 1e-05, 'P@1000': 0.0}\n",
      "get results heaps\n",
      "noise decimal: 4 {'NDCG@1': 0.0, 'NDCG@3': 0.0, 'NDCG@5': 0.0, 'NDCG@10': 1e-05, 'NDCG@100': 7e-05, 'NDCG@1000': 0.00026} {'MAP@1': 0.0, 'MAP@3': 0.0, 'MAP@5': 0.0, 'MAP@10': 0.0, 'MAP@100': 1e-05, 'MAP@1000': 1e-05} {'Recall@1': 0.0, 'Recall@3': 0.0, 'Recall@5': 0.0, 'Recall@10': 2e-05, 'Recall@100': 0.00033, 'Recall@1000': 0.00174} {'P@1': 0.0, 'P@3': 0.0, 'P@5': 0.0, 'P@10': 1e-05, 'P@100': 1e-05, 'P@1000': 0.0}\n",
      "get results heaps\n",
      "noise decimal: 3 {'NDCG@1': 0.0, 'NDCG@3': 0.0, 'NDCG@5': 0.0, 'NDCG@10': 1e-05, 'NDCG@100': 6e-05, 'NDCG@1000': 0.00029} {'MAP@1': 0.0, 'MAP@3': 0.0, 'MAP@5': 0.0, 'MAP@10': 0.0, 'MAP@100': 1e-05, 'MAP@1000': 1e-05} {'Recall@1': 0.0, 'Recall@3': 0.0, 'Recall@5': 0.0, 'Recall@10': 2e-05, 'Recall@100': 0.00028, 'Recall@1000': 0.00206} {'P@1': 0.0, 'P@3': 0.0, 'P@5': 0.0, 'P@10': 1e-05, 'P@100': 1e-05, 'P@1000': 0.0}\n",
      "get results heaps\n",
      "noise decimal: 2 {'NDCG@1': 0.0, 'NDCG@3': 0.0, 'NDCG@5': 0.0, 'NDCG@10': 1e-05, 'NDCG@100': 8e-05, 'NDCG@1000': 0.00028} {'MAP@1': 0.0, 'MAP@3': 0.0, 'MAP@5': 0.0, 'MAP@10': 0.0, 'MAP@100': 1e-05, 'MAP@1000': 1e-05} {'Recall@1': 0.0, 'Recall@3': 0.0, 'Recall@5': 0.0, 'Recall@10': 2e-05, 'Recall@100': 0.00038, 'Recall@1000': 0.00202} {'P@1': 0.0, 'P@3': 0.0, 'P@5': 0.0, 'P@10': 1e-05, 'P@100': 1e-05, 'P@1000': 0.0}\n",
      "get results heaps\n",
      "noise decimal: 1 {'NDCG@1': 0.0, 'NDCG@3': 0.0, 'NDCG@5': 0.0, 'NDCG@10': 1e-05, 'NDCG@100': 4e-05, 'NDCG@1000': 0.00022} {'MAP@1': 0.0, 'MAP@3': 0.0, 'MAP@5': 0.0, 'MAP@10': 0.0, 'MAP@100': 1e-05, 'MAP@1000': 1e-05} {'Recall@1': 0.0, 'Recall@3': 0.0, 'Recall@5': 0.0, 'Recall@10': 2e-05, 'Recall@100': 0.00013, 'Recall@1000': 0.00147} {'P@1': 0.0, 'P@3': 0.0, 'P@5': 0.0, 'P@10': 1e-05, 'P@100': 0.0, 'P@1000': 0.0}\n",
      "get results heaps\n",
      "noise decimal: 0 {'NDCG@1': 0.0, 'NDCG@3': 0.0, 'NDCG@5': 0.0, 'NDCG@10': 0.0, 'NDCG@100': 1e-05, 'NDCG@1000': 0.00024} {'MAP@1': 0.0, 'MAP@3': 0.0, 'MAP@5': 0.0, 'MAP@10': 0.0, 'MAP@100': 0.0, 'MAP@1000': 1e-05} {'Recall@1': 0.0, 'Recall@3': 0.0, 'Recall@5': 0.0, 'Recall@10': 0.0, 'Recall@100': 5e-05, 'Recall@1000': 0.00184} {'P@1': 0.0, 'P@3': 0.0, 'P@5': 0.0, 'P@10': 0.0, 'P@100': 0.0, 'P@1000': 0.0}\n"
     ]
    }
   ],
   "source": [
    "noise_recalls = []\n",
    "noise_decimals = range(12,-1,-1)\n",
    "for decimal in range(12,-1,-1):\n",
    "    # print(decimal, type(decimal))\n",
    "    model.add_noise(decimal)\n",
    "    # model.noise()\n",
    "    retriever = EvaluateRetrieval(model, score_function=\"cos_sim\")\n",
    "    results = retriever.retrieve(model.corpus_embeddings, model.query_embeddings)\n",
    "    ndcg, _map, recall, precision = retriever.evaluate(qrels, results, retriever.k_values)\n",
    "    print(\"noise decimal:\", decimal , ndcg, _map, recall, precision )\n",
    "    noise_recalls.append(recall)"
   ]
  },
  {
   "cell_type": "code",
   "execution_count": 27,
   "metadata": {},
   "outputs": [],
   "source": [
    "import csv\n",
    "# Headers for CSV file\n",
    "headers = ['Rounding_Decimals', 'Recall@100', 'Recall@1000']\n",
    "\n",
    "# Create and write data to CSV file\n",
    "with open('results/scifact/rounding_recalls_full.csv', 'w', newline='') as file:\n",
    "    writer = csv.DictWriter(file, fieldnames=headers)\n",
    "    writer.writeheader()\n",
    "\n",
    "    for rounding_decimal, rounding_recall in zip(rounding_decimals, rounding_recalls):\n",
    "        row_data = {\n",
    "            'Rounding_Decimals': rounding_decimal,\n",
    "            'Recall@100': rounding_recall['Recall@100'],\n",
    "            'Recall@1000': rounding_recall['Recall@1000']\n",
    "        }\n",
    "        writer.writerow(row_data)"
   ]
  },
  {
   "cell_type": "code",
   "execution_count": 28,
   "metadata": {},
   "outputs": [],
   "source": [
    "# Headers for CSV file\n",
    "headers = ['Rounding_Decimals', 'Recall@100', 'Recall@1000']\n",
    "\n",
    "# Create and write data to CSV file\n",
    "with open('results/scifact/noise_recall_full.csv', 'w', newline='') as file:\n",
    "    writer = csv.DictWriter(file, fieldnames=headers)\n",
    "    writer.writeheader()\n",
    "\n",
    "    for rounding_decimal, noise_recall in zip(rounding_decimals, noise_recalls):\n",
    "        row_data = {\n",
    "            'Rounding_Decimals': rounding_decimal,\n",
    "            'Recall@100': noise_recall['Recall@100'],\n",
    "            'Recall@1000': noise_recall['Recall@1000']\n",
    "        }\n",
    "        writer.writerow(row_data)"
   ]
  },
  {
   "cell_type": "code",
   "execution_count": null,
   "metadata": {},
   "outputs": [],
   "source": []
  },
  {
   "cell_type": "code",
   "execution_count": 31,
   "metadata": {},
   "outputs": [],
   "source": [
    "# # PSIRetrievalExactSearch is parent class for any model we are using for our experiement that can be used for retrieval\n",
    "# # Abstract class is BaseSearch\n",
    "# class PSIRetrievalExactSearch(BaseSearch):\n",
    "#     def __init__(\n",
    "#             self,\n",
    "#             model,\n",
    "#             path_corpus_embeddings: str = \"datasets/subquora/corpus_embeddings.pkl\",\n",
    "#             path_query_embeddings: str = \"datasets/subquora/query_embeddings.pkl\",\n",
    "#             **kwargs):\n",
    "#         #model is class should do nothing\n",
    "#         self.model = model\n",
    "#         self.path_corpus_embeddings = path_corpus_embeddings\n",
    "#         self.path_query_embeddings = path_query_embeddings\n",
    "#         self.show_progress_bar = kwargs.get(\"show_progress_bar\", True)\n",
    "#         self.convert_to_tensor = kwargs.get(\"convert_to_tensor\", True)\n",
    "#         self.results = {}\n",
    "\n",
    "#         logger.info(\"Load in Encoded Queries and Corpus from Pickle...\")\n",
    "#         # Verify file existence\n",
    "#         if not os.path.exists(self.path_corpus_embeddings):\n",
    "#             raise FileNotFoundError(f\"File '{self.path_corpus_embeddings}' not found.\")\n",
    "#         if not os.path.exists(self.path_query_embeddings):\n",
    "#             raise FileNotFoundError(f\"File '{self.path_query_embeddings}' not found.\")\n",
    "\n",
    "#         with open(self.path_query_embeddings, \"rb\") as f:\n",
    "#             self.query_embeddings = pickle.load(f)\n",
    "\n",
    "#         with open(self.path_corpus_embeddings, \"rb\") as f:\n",
    "#             self.corpus_embeddings = pickle.load(f)\n",
    "\n",
    "#     def add_rounding(self, rounding_decimal: int) -> None:\n",
    "#         # rounding decimal\n",
    "#         if rounding_decimal < 12:\n",
    "#             logger.info(\"Rounding decimal places of Queries and Corpus...\")\n",
    "#             for key, value in self.query_embeddings.items():\n",
    "#                 self.query_embeddings[key] = np.round(value, decimals=rounding_decimal)\n",
    "\n",
    "#             for key, value in self.corpus_embeddings.items():\n",
    "#                 self.corpus_embeddings[key] = np.round(value, decimals=rounding_decimal)\n",
    "\n",
    "#     def add_noise(self, rounding_decimal: int) -> None:\n",
    "#         logger.info(\"Adding Noise to Queries and Corpus...\")\n",
    "#         for key, value in self.query_embeddings.items():\n",
    "#             self.query_embeddings[key] += np.random.random() / 10**rounding_decimal\n",
    "\n",
    "#         for key, value in self.corpus_embeddings.items():\n",
    "#             self.corpus_embeddings[key] += np.random.random() / 10**rounding_decimal\n",
    "\n",
    "#     def search(self,\n",
    "#                corpus: Dict[str, Dict[str, str]],\n",
    "#                queries: Dict[str, str],\n",
    "#                top_k: int,\n",
    "#                score_function: str,\n",
    "#                return_sorted: bool = False,\n",
    "#                **kwargs) -> Dict[str, Dict[str, float]]:\n",
    "\n",
    "#         query_ids = list(self.query_embeddings.keys())\n",
    "#         self.results = {qid: {} for qid in query_ids}\n",
    "\n",
    "#         corpus_set = set(self.corpus_embeddings)\n",
    "#         query_set = set(self.query_embeddings)\n",
    "#         overlap = query_set.intersection(corpus_set)\n",
    "\n",
    "\n",
    "#         for qid in overlap:\n",
    "#             for score, corpus_id in overlap[qid]:\n",
    "#                 self.results[qid][corpus_id] = 1\n",
    "\n",
    "#         return self.results"
   ]
  },
  {
   "cell_type": "code",
   "execution_count": 32,
   "metadata": {},
   "outputs": [
    {
     "name": "stdout",
     "output_type": "stream",
     "text": [
      "here\n",
      "12 <class 'int'>\n",
      "after add_rounding\n",
      "after EvaluateRetrieval\n",
      "after retrieve\n",
      "decimal_places: 12 {'NDCG@1': 0.0, 'NDCG@3': 0.0, 'NDCG@5': 0.0, 'NDCG@10': 0.0, 'NDCG@100': 0.0, 'NDCG@1000': 0.0} {'MAP@1': 0.0, 'MAP@3': 0.0, 'MAP@5': 0.0, 'MAP@10': 0.0, 'MAP@100': 0.0, 'MAP@1000': 0.0} {'Recall@1': 0.0, 'Recall@3': 0.0, 'Recall@5': 0.0, 'Recall@10': 0.0, 'Recall@100': 0.0, 'Recall@1000': 0.0} {'P@1': 0.0, 'P@3': 0.0, 'P@5': 0.0, 'P@10': 0.0, 'P@100': 0.0, 'P@1000': 0.0}\n",
      "11 <class 'int'>\n",
      "after add_rounding\n",
      "after EvaluateRetrieval\n",
      "after retrieve\n",
      "decimal_places: 11 {'NDCG@1': 0.0, 'NDCG@3': 0.0, 'NDCG@5': 0.0, 'NDCG@10': 0.0, 'NDCG@100': 0.0, 'NDCG@1000': 0.0} {'MAP@1': 0.0, 'MAP@3': 0.0, 'MAP@5': 0.0, 'MAP@10': 0.0, 'MAP@100': 0.0, 'MAP@1000': 0.0} {'Recall@1': 0.0, 'Recall@3': 0.0, 'Recall@5': 0.0, 'Recall@10': 0.0, 'Recall@100': 0.0, 'Recall@1000': 0.0} {'P@1': 0.0, 'P@3': 0.0, 'P@5': 0.0, 'P@10': 0.0, 'P@100': 0.0, 'P@1000': 0.0}\n",
      "10 <class 'int'>\n",
      "after add_rounding\n",
      "after EvaluateRetrieval\n",
      "after retrieve\n",
      "decimal_places: 10 {'NDCG@1': 0.0, 'NDCG@3': 0.0, 'NDCG@5': 0.0, 'NDCG@10': 0.0, 'NDCG@100': 0.0, 'NDCG@1000': 0.0} {'MAP@1': 0.0, 'MAP@3': 0.0, 'MAP@5': 0.0, 'MAP@10': 0.0, 'MAP@100': 0.0, 'MAP@1000': 0.0} {'Recall@1': 0.0, 'Recall@3': 0.0, 'Recall@5': 0.0, 'Recall@10': 0.0, 'Recall@100': 0.0, 'Recall@1000': 0.0} {'P@1': 0.0, 'P@3': 0.0, 'P@5': 0.0, 'P@10': 0.0, 'P@100': 0.0, 'P@1000': 0.0}\n",
      "9 <class 'int'>\n",
      "after add_rounding\n",
      "after EvaluateRetrieval\n",
      "after retrieve\n",
      "decimal_places: 9 {'NDCG@1': 0.0, 'NDCG@3': 0.0, 'NDCG@5': 0.0, 'NDCG@10': 0.0, 'NDCG@100': 0.0, 'NDCG@1000': 0.0} {'MAP@1': 0.0, 'MAP@3': 0.0, 'MAP@5': 0.0, 'MAP@10': 0.0, 'MAP@100': 0.0, 'MAP@1000': 0.0} {'Recall@1': 0.0, 'Recall@3': 0.0, 'Recall@5': 0.0, 'Recall@10': 0.0, 'Recall@100': 0.0, 'Recall@1000': 0.0} {'P@1': 0.0, 'P@3': 0.0, 'P@5': 0.0, 'P@10': 0.0, 'P@100': 0.0, 'P@1000': 0.0}\n",
      "8 <class 'int'>\n",
      "after add_rounding\n",
      "after EvaluateRetrieval\n",
      "after retrieve\n",
      "decimal_places: 8 {'NDCG@1': 0.0, 'NDCG@3': 0.0, 'NDCG@5': 0.0, 'NDCG@10': 0.0, 'NDCG@100': 0.0, 'NDCG@1000': 0.0} {'MAP@1': 0.0, 'MAP@3': 0.0, 'MAP@5': 0.0, 'MAP@10': 0.0, 'MAP@100': 0.0, 'MAP@1000': 0.0} {'Recall@1': 0.0, 'Recall@3': 0.0, 'Recall@5': 0.0, 'Recall@10': 0.0, 'Recall@100': 0.0, 'Recall@1000': 0.0} {'P@1': 0.0, 'P@3': 0.0, 'P@5': 0.0, 'P@10': 0.0, 'P@100': 0.0, 'P@1000': 0.0}\n",
      "7 <class 'int'>\n",
      "after add_rounding\n",
      "after EvaluateRetrieval\n",
      "after retrieve\n",
      "decimal_places: 7 {'NDCG@1': 0.0, 'NDCG@3': 0.0, 'NDCG@5': 0.0, 'NDCG@10': 0.0, 'NDCG@100': 0.0, 'NDCG@1000': 0.0} {'MAP@1': 0.0, 'MAP@3': 0.0, 'MAP@5': 0.0, 'MAP@10': 0.0, 'MAP@100': 0.0, 'MAP@1000': 0.0} {'Recall@1': 0.0, 'Recall@3': 0.0, 'Recall@5': 0.0, 'Recall@10': 0.0, 'Recall@100': 0.0, 'Recall@1000': 0.0} {'P@1': 0.0, 'P@3': 0.0, 'P@5': 0.0, 'P@10': 0.0, 'P@100': 0.0, 'P@1000': 0.0}\n",
      "6 <class 'int'>\n",
      "after add_rounding\n",
      "after EvaluateRetrieval\n",
      "after retrieve\n",
      "decimal_places: 6 {'NDCG@1': 0.0, 'NDCG@3': 0.0, 'NDCG@5': 0.0, 'NDCG@10': 0.0, 'NDCG@100': 0.0, 'NDCG@1000': 0.0} {'MAP@1': 0.0, 'MAP@3': 0.0, 'MAP@5': 0.0, 'MAP@10': 0.0, 'MAP@100': 0.0, 'MAP@1000': 0.0} {'Recall@1': 0.0, 'Recall@3': 0.0, 'Recall@5': 0.0, 'Recall@10': 0.0, 'Recall@100': 0.0, 'Recall@1000': 0.0} {'P@1': 0.0, 'P@3': 0.0, 'P@5': 0.0, 'P@10': 0.0, 'P@100': 0.0, 'P@1000': 0.0}\n",
      "5 <class 'int'>\n",
      "after add_rounding\n",
      "after EvaluateRetrieval\n",
      "after retrieve\n",
      "decimal_places: 5 {'NDCG@1': 0.0, 'NDCG@3': 0.0, 'NDCG@5': 0.0, 'NDCG@10': 0.0, 'NDCG@100': 0.0, 'NDCG@1000': 0.0} {'MAP@1': 0.0, 'MAP@3': 0.0, 'MAP@5': 0.0, 'MAP@10': 0.0, 'MAP@100': 0.0, 'MAP@1000': 0.0} {'Recall@1': 0.0, 'Recall@3': 0.0, 'Recall@5': 0.0, 'Recall@10': 0.0, 'Recall@100': 0.0, 'Recall@1000': 0.0} {'P@1': 0.0, 'P@3': 0.0, 'P@5': 0.0, 'P@10': 0.0, 'P@100': 0.0, 'P@1000': 0.0}\n",
      "4 <class 'int'>\n",
      "after add_rounding\n",
      "after EvaluateRetrieval\n",
      "after retrieve\n",
      "decimal_places: 4 {'NDCG@1': 0.0, 'NDCG@3': 0.0, 'NDCG@5': 0.0, 'NDCG@10': 0.0, 'NDCG@100': 0.0, 'NDCG@1000': 0.0} {'MAP@1': 0.0, 'MAP@3': 0.0, 'MAP@5': 0.0, 'MAP@10': 0.0, 'MAP@100': 0.0, 'MAP@1000': 0.0} {'Recall@1': 0.0, 'Recall@3': 0.0, 'Recall@5': 0.0, 'Recall@10': 0.0, 'Recall@100': 0.0, 'Recall@1000': 0.0} {'P@1': 0.0, 'P@3': 0.0, 'P@5': 0.0, 'P@10': 0.0, 'P@100': 0.0, 'P@1000': 0.0}\n",
      "3 <class 'int'>\n",
      "after add_rounding\n",
      "after EvaluateRetrieval\n",
      "after retrieve\n",
      "decimal_places: 3 {'NDCG@1': 0.0, 'NDCG@3': 0.0, 'NDCG@5': 0.0, 'NDCG@10': 0.0, 'NDCG@100': 0.0, 'NDCG@1000': 0.0} {'MAP@1': 0.0, 'MAP@3': 0.0, 'MAP@5': 0.0, 'MAP@10': 0.0, 'MAP@100': 0.0, 'MAP@1000': 0.0} {'Recall@1': 0.0, 'Recall@3': 0.0, 'Recall@5': 0.0, 'Recall@10': 0.0, 'Recall@100': 0.0, 'Recall@1000': 0.0} {'P@1': 0.0, 'P@3': 0.0, 'P@5': 0.0, 'P@10': 0.0, 'P@100': 0.0, 'P@1000': 0.0}\n",
      "2 <class 'int'>\n",
      "after add_rounding\n",
      "after EvaluateRetrieval\n",
      "after retrieve\n",
      "decimal_places: 2 {'NDCG@1': 0.0, 'NDCG@3': 0.0, 'NDCG@5': 0.0, 'NDCG@10': 0.0, 'NDCG@100': 0.0, 'NDCG@1000': 0.0} {'MAP@1': 0.0, 'MAP@3': 0.0, 'MAP@5': 0.0, 'MAP@10': 0.0, 'MAP@100': 0.0, 'MAP@1000': 0.0} {'Recall@1': 0.0, 'Recall@3': 0.0, 'Recall@5': 0.0, 'Recall@10': 0.0, 'Recall@100': 0.0, 'Recall@1000': 0.0} {'P@1': 0.0, 'P@3': 0.0, 'P@5': 0.0, 'P@10': 0.0, 'P@100': 0.0, 'P@1000': 0.0}\n",
      "1 <class 'int'>\n",
      "after add_rounding\n",
      "after EvaluateRetrieval\n",
      "after retrieve\n",
      "decimal_places: 1 {'NDCG@1': 0.0, 'NDCG@3': 0.0, 'NDCG@5': 0.0, 'NDCG@10': 0.0, 'NDCG@100': 0.0, 'NDCG@1000': 0.0} {'MAP@1': 0.0, 'MAP@3': 0.0, 'MAP@5': 0.0, 'MAP@10': 0.0, 'MAP@100': 0.0, 'MAP@1000': 0.0} {'Recall@1': 0.0, 'Recall@3': 0.0, 'Recall@5': 0.0, 'Recall@10': 0.0, 'Recall@100': 0.0, 'Recall@1000': 0.0} {'P@1': 0.0, 'P@3': 0.0, 'P@5': 0.0, 'P@10': 0.0, 'P@100': 0.0, 'P@1000': 0.0}\n",
      "0 <class 'int'>\n",
      "after add_rounding\n",
      "after EvaluateRetrieval\n",
      "after retrieve\n",
      "decimal_places: 0 {'NDCG@1': 0.0, 'NDCG@3': 0.0, 'NDCG@5': 0.0, 'NDCG@10': 0.0, 'NDCG@100': 0.0, 'NDCG@1000': 0.0} {'MAP@1': 0.0, 'MAP@3': 0.0, 'MAP@5': 0.0, 'MAP@10': 0.0, 'MAP@100': 0.0, 'MAP@1000': 0.0} {'Recall@1': 0.0, 'Recall@3': 0.0, 'Recall@5': 0.0, 'Recall@10': 0.0, 'Recall@100': 0.0, 'Recall@1000': 0.0} {'P@1': 0.0, 'P@3': 0.0, 'P@5': 0.0, 'P@10': 0.0, 'P@100': 0.0, 'P@1000': 0.0}\n"
     ]
    }
   ],
   "source": [
    "model = PSIRetrievalExactSearch(\n",
    "    beir_sbert,\n",
    "    path_corpus_embeddings = \"datasets/subquora/corpus_embeddings_full.pkl\",\n",
    "    path_query_embeddings= \"datasets/subquora/query_embeddings_full.pkl\") # This can go outside the loop\n",
    "\n",
    "print(\"here\")\n",
    "with open(\"datasets/subquora/qrels_full.json\", \"r\") as f:\n",
    "    qrels = json.load(f)\n",
    "\n",
    "with open(\"datasets/subquora/query_embeddings_full.pkl\", \"rb\") as f:\n",
    "    query_embeddings = pickle.load(f)\n",
    "\n",
    "with open(\"datasets/subquora/corpus_embeddings_full.pkl\", \"rb\") as f:\n",
    "    corpus_embeddings = pickle.load(f)\n",
    "\n",
    "\n",
    "rounding_recalls_PSI = []\n",
    "rounding_decimals = range(12,-1,-1)\n",
    "for decimal in rounding_decimals:\n",
    "    print(decimal, type(decimal))\n",
    "    model.add_rounding(decimal)\n",
    "    print(\"after add_rounding\")\n",
    "    retriever = EvaluateRetrieval(model, score_function=\"cos_sim\")\n",
    "    print(\"after EvaluateRetrieval\")\n",
    "    # print(model.corpus_embeddings, model.query_embeddings)\n",
    "    # issue maybe you have to pass the correct corpus and queries in\n",
    "    results = retriever.retrieve(corpus_embeddings, query_embeddings)\n",
    "    print(\"after retrieve\")\n",
    "    ndcg, _map, recall, precision = retriever.evaluate(qrels, results, retriever.k_values)\n",
    "    print(\"decimal_places:\", decimal , ndcg, _map, recall, precision )\n",
    "    #recall@100 matters mostr, save to array for plotting\n",
    "    rounding_recalls_PSI.append(recall)\n"
   ]
  },
  {
   "cell_type": "code",
   "execution_count": 33,
   "metadata": {},
   "outputs": [
    {
     "name": "stdout",
     "output_type": "stream",
     "text": [
      "noise decimal: 12 {'NDCG@1': 0.0, 'NDCG@3': 0.0, 'NDCG@5': 0.0, 'NDCG@10': 0.0, 'NDCG@100': 0.0, 'NDCG@1000': 0.0} {'MAP@1': 0.0, 'MAP@3': 0.0, 'MAP@5': 0.0, 'MAP@10': 0.0, 'MAP@100': 0.0, 'MAP@1000': 0.0} {'Recall@1': 0.0, 'Recall@3': 0.0, 'Recall@5': 0.0, 'Recall@10': 0.0, 'Recall@100': 0.0, 'Recall@1000': 0.0} {'P@1': 0.0, 'P@3': 0.0, 'P@5': 0.0, 'P@10': 0.0, 'P@100': 0.0, 'P@1000': 0.0}\n",
      "noise decimal: 11 {'NDCG@1': 0.0, 'NDCG@3': 0.0, 'NDCG@5': 0.0, 'NDCG@10': 0.0, 'NDCG@100': 0.0, 'NDCG@1000': 0.0} {'MAP@1': 0.0, 'MAP@3': 0.0, 'MAP@5': 0.0, 'MAP@10': 0.0, 'MAP@100': 0.0, 'MAP@1000': 0.0} {'Recall@1': 0.0, 'Recall@3': 0.0, 'Recall@5': 0.0, 'Recall@10': 0.0, 'Recall@100': 0.0, 'Recall@1000': 0.0} {'P@1': 0.0, 'P@3': 0.0, 'P@5': 0.0, 'P@10': 0.0, 'P@100': 0.0, 'P@1000': 0.0}\n",
      "noise decimal: 10 {'NDCG@1': 0.0, 'NDCG@3': 0.0, 'NDCG@5': 0.0, 'NDCG@10': 0.0, 'NDCG@100': 0.0, 'NDCG@1000': 0.0} {'MAP@1': 0.0, 'MAP@3': 0.0, 'MAP@5': 0.0, 'MAP@10': 0.0, 'MAP@100': 0.0, 'MAP@1000': 0.0} {'Recall@1': 0.0, 'Recall@3': 0.0, 'Recall@5': 0.0, 'Recall@10': 0.0, 'Recall@100': 0.0, 'Recall@1000': 0.0} {'P@1': 0.0, 'P@3': 0.0, 'P@5': 0.0, 'P@10': 0.0, 'P@100': 0.0, 'P@1000': 0.0}\n",
      "noise decimal: 9 {'NDCG@1': 0.0, 'NDCG@3': 0.0, 'NDCG@5': 0.0, 'NDCG@10': 0.0, 'NDCG@100': 0.0, 'NDCG@1000': 0.0} {'MAP@1': 0.0, 'MAP@3': 0.0, 'MAP@5': 0.0, 'MAP@10': 0.0, 'MAP@100': 0.0, 'MAP@1000': 0.0} {'Recall@1': 0.0, 'Recall@3': 0.0, 'Recall@5': 0.0, 'Recall@10': 0.0, 'Recall@100': 0.0, 'Recall@1000': 0.0} {'P@1': 0.0, 'P@3': 0.0, 'P@5': 0.0, 'P@10': 0.0, 'P@100': 0.0, 'P@1000': 0.0}\n",
      "noise decimal: 8 {'NDCG@1': 0.0, 'NDCG@3': 0.0, 'NDCG@5': 0.0, 'NDCG@10': 0.0, 'NDCG@100': 0.0, 'NDCG@1000': 0.0} {'MAP@1': 0.0, 'MAP@3': 0.0, 'MAP@5': 0.0, 'MAP@10': 0.0, 'MAP@100': 0.0, 'MAP@1000': 0.0} {'Recall@1': 0.0, 'Recall@3': 0.0, 'Recall@5': 0.0, 'Recall@10': 0.0, 'Recall@100': 0.0, 'Recall@1000': 0.0} {'P@1': 0.0, 'P@3': 0.0, 'P@5': 0.0, 'P@10': 0.0, 'P@100': 0.0, 'P@1000': 0.0}\n",
      "noise decimal: 7 {'NDCG@1': 0.0, 'NDCG@3': 0.0, 'NDCG@5': 0.0, 'NDCG@10': 0.0, 'NDCG@100': 0.0, 'NDCG@1000': 0.0} {'MAP@1': 0.0, 'MAP@3': 0.0, 'MAP@5': 0.0, 'MAP@10': 0.0, 'MAP@100': 0.0, 'MAP@1000': 0.0} {'Recall@1': 0.0, 'Recall@3': 0.0, 'Recall@5': 0.0, 'Recall@10': 0.0, 'Recall@100': 0.0, 'Recall@1000': 0.0} {'P@1': 0.0, 'P@3': 0.0, 'P@5': 0.0, 'P@10': 0.0, 'P@100': 0.0, 'P@1000': 0.0}\n",
      "noise decimal: 6 {'NDCG@1': 0.0, 'NDCG@3': 0.0, 'NDCG@5': 0.0, 'NDCG@10': 0.0, 'NDCG@100': 0.0, 'NDCG@1000': 0.0} {'MAP@1': 0.0, 'MAP@3': 0.0, 'MAP@5': 0.0, 'MAP@10': 0.0, 'MAP@100': 0.0, 'MAP@1000': 0.0} {'Recall@1': 0.0, 'Recall@3': 0.0, 'Recall@5': 0.0, 'Recall@10': 0.0, 'Recall@100': 0.0, 'Recall@1000': 0.0} {'P@1': 0.0, 'P@3': 0.0, 'P@5': 0.0, 'P@10': 0.0, 'P@100': 0.0, 'P@1000': 0.0}\n",
      "noise decimal: 5 {'NDCG@1': 0.0, 'NDCG@3': 0.0, 'NDCG@5': 0.0, 'NDCG@10': 0.0, 'NDCG@100': 0.0, 'NDCG@1000': 0.0} {'MAP@1': 0.0, 'MAP@3': 0.0, 'MAP@5': 0.0, 'MAP@10': 0.0, 'MAP@100': 0.0, 'MAP@1000': 0.0} {'Recall@1': 0.0, 'Recall@3': 0.0, 'Recall@5': 0.0, 'Recall@10': 0.0, 'Recall@100': 0.0, 'Recall@1000': 0.0} {'P@1': 0.0, 'P@3': 0.0, 'P@5': 0.0, 'P@10': 0.0, 'P@100': 0.0, 'P@1000': 0.0}\n",
      "noise decimal: 4 {'NDCG@1': 0.0, 'NDCG@3': 0.0, 'NDCG@5': 0.0, 'NDCG@10': 0.0, 'NDCG@100': 0.0, 'NDCG@1000': 0.0} {'MAP@1': 0.0, 'MAP@3': 0.0, 'MAP@5': 0.0, 'MAP@10': 0.0, 'MAP@100': 0.0, 'MAP@1000': 0.0} {'Recall@1': 0.0, 'Recall@3': 0.0, 'Recall@5': 0.0, 'Recall@10': 0.0, 'Recall@100': 0.0, 'Recall@1000': 0.0} {'P@1': 0.0, 'P@3': 0.0, 'P@5': 0.0, 'P@10': 0.0, 'P@100': 0.0, 'P@1000': 0.0}\n",
      "noise decimal: 3 {'NDCG@1': 0.0, 'NDCG@3': 0.0, 'NDCG@5': 0.0, 'NDCG@10': 0.0, 'NDCG@100': 0.0, 'NDCG@1000': 0.0} {'MAP@1': 0.0, 'MAP@3': 0.0, 'MAP@5': 0.0, 'MAP@10': 0.0, 'MAP@100': 0.0, 'MAP@1000': 0.0} {'Recall@1': 0.0, 'Recall@3': 0.0, 'Recall@5': 0.0, 'Recall@10': 0.0, 'Recall@100': 0.0, 'Recall@1000': 0.0} {'P@1': 0.0, 'P@3': 0.0, 'P@5': 0.0, 'P@10': 0.0, 'P@100': 0.0, 'P@1000': 0.0}\n",
      "noise decimal: 2 {'NDCG@1': 0.0, 'NDCG@3': 0.0, 'NDCG@5': 0.0, 'NDCG@10': 0.0, 'NDCG@100': 0.0, 'NDCG@1000': 0.0} {'MAP@1': 0.0, 'MAP@3': 0.0, 'MAP@5': 0.0, 'MAP@10': 0.0, 'MAP@100': 0.0, 'MAP@1000': 0.0} {'Recall@1': 0.0, 'Recall@3': 0.0, 'Recall@5': 0.0, 'Recall@10': 0.0, 'Recall@100': 0.0, 'Recall@1000': 0.0} {'P@1': 0.0, 'P@3': 0.0, 'P@5': 0.0, 'P@10': 0.0, 'P@100': 0.0, 'P@1000': 0.0}\n",
      "noise decimal: 1 {'NDCG@1': 0.0, 'NDCG@3': 0.0, 'NDCG@5': 0.0, 'NDCG@10': 0.0, 'NDCG@100': 0.0, 'NDCG@1000': 0.0} {'MAP@1': 0.0, 'MAP@3': 0.0, 'MAP@5': 0.0, 'MAP@10': 0.0, 'MAP@100': 0.0, 'MAP@1000': 0.0} {'Recall@1': 0.0, 'Recall@3': 0.0, 'Recall@5': 0.0, 'Recall@10': 0.0, 'Recall@100': 0.0, 'Recall@1000': 0.0} {'P@1': 0.0, 'P@3': 0.0, 'P@5': 0.0, 'P@10': 0.0, 'P@100': 0.0, 'P@1000': 0.0}\n",
      "noise decimal: 0 {'NDCG@1': 0.0, 'NDCG@3': 0.0, 'NDCG@5': 0.0, 'NDCG@10': 0.0, 'NDCG@100': 0.0, 'NDCG@1000': 0.0} {'MAP@1': 0.0, 'MAP@3': 0.0, 'MAP@5': 0.0, 'MAP@10': 0.0, 'MAP@100': 0.0, 'MAP@1000': 0.0} {'Recall@1': 0.0, 'Recall@3': 0.0, 'Recall@5': 0.0, 'Recall@10': 0.0, 'Recall@100': 0.0, 'Recall@1000': 0.0} {'P@1': 0.0, 'P@3': 0.0, 'P@5': 0.0, 'P@10': 0.0, 'P@100': 0.0, 'P@1000': 0.0}\n"
     ]
    }
   ],
   "source": [
    "noise_recalls_PSI = []\n",
    "noise_decimals = range(12,-1,-1)\n",
    "for decimal in range(12,-1,-1):\n",
    "    # print(decimal, type(decimal))\n",
    "    model.add_noise(decimal)\n",
    "    # model.noise()\n",
    "    retriever = EvaluateRetrieval(model, score_function=\"cos_sim\")\n",
    "    results = retriever.retrieve(model.corpus_embeddings, model.query_embeddings)\n",
    "    ndcg, _map, recall, precision = retriever.evaluate(qrels, results, retriever.k_values)\n",
    "    print(\"noise decimal:\", decimal , ndcg, _map, recall, precision )\n",
    "    noise_recalls_PSI.append(recall)"
   ]
  },
  {
   "cell_type": "code",
   "execution_count": 34,
   "metadata": {},
   "outputs": [],
   "source": [
    "import csv\n",
    "# Headers for CSV file\n",
    "headers = ['Rounding_Decimals', 'Recall@100', 'Recall@1000']\n",
    "\n",
    "# Create and write data to CSV file\n",
    "with open('results/PSI_rounding_recalls_full.csv', 'w', newline='') as file:\n",
    "    writer = csv.DictWriter(file, fieldnames=headers)\n",
    "    writer.writeheader()\n",
    "\n",
    "    for rounding_decimal, rounding_recall in zip(rounding_decimals, rounding_recalls_PSI):\n",
    "        row_data = {\n",
    "            'Rounding_Decimals': rounding_decimal,\n",
    "            'Recall@100': rounding_recall['Recall@100'],\n",
    "            'Recall@1000': rounding_recall['Recall@1000']\n",
    "        }\n",
    "        writer.writerow(row_data)"
   ]
  },
  {
   "cell_type": "code",
   "execution_count": null,
   "metadata": {},
   "outputs": [],
   "source": [
    "# Headers for CSV file\n",
    "headers = ['Rounding_Decimals', 'Recall@100', 'Recall@1000']\n",
    "\n",
    "# Create and write data to CSV file\n",
    "with open('results/PSI_noise_recall_full.csv', 'w', newline='') as file:\n",
    "    writer = csv.DictWriter(file, fieldnames=headers)\n",
    "    writer.writeheader()\n",
    "\n",
    "    for rounding_decimal, noise_recall in zip(rounding_decimals, noise_recalls_PSI):\n",
    "        row_data = {\n",
    "            'Rounding_Decimals': rounding_decimal,\n",
    "            'Recall@100': noise_recall['Recall@100'],\n",
    "            'Recall@1000': noise_recall['Recall@1000']\n",
    "        }\n",
    "        writer.writerow(row_data)"
   ]
  }
 ],
 "metadata": {
  "kernelspec": {
   "display_name": "Python 3",
   "language": "python",
   "name": "python3"
  },
  "language_info": {
   "codemirror_mode": {
    "name": "ipython",
    "version": 3
   },
   "file_extension": ".py",
   "mimetype": "text/x-python",
   "name": "python",
   "nbconvert_exporter": "python",
   "pygments_lexer": "ipython3",
   "version": "3.10.6"
  }
 },
 "nbformat": 4,
 "nbformat_minor": 2
}
