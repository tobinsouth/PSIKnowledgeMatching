{
 "cells": [
  {
   "cell_type": "markdown",
   "metadata": {},
   "source": [
    "This file is going to use BEIR to download a dataset and create embeddings "
   ]
  },
  {
   "cell_type": "markdown",
   "metadata": {},
   "source": [
    "# Part 1. embeddings, saving & loading"
   ]
  },
  {
   "cell_type": "code",
   "execution_count": 1,
   "metadata": {},
   "outputs": [],
   "source": [
    "# constants\n",
    "DATASET = \"quora\"\n",
    "sbert_model_name = \"msmarco-distilbert-base-tas-b\"\n",
    "device = \"cpu\" # cuda for gpu usage\n",
    "k_queries = 5000\n",
    "k_documents = 261465"
   ]
  },
  {
   "cell_type": "code",
   "execution_count": 2,
   "metadata": {},
   "outputs": [
    {
     "name": "stderr",
     "output_type": "stream",
     "text": [
      "/home/user-st/.local/lib/python3.8/site-packages/beir/util.py:2: TqdmWarning: IProgress not found. Please update jupyter and ipywidgets. See https://ipywidgets.readthedocs.io/en/stable/user_install.html\n",
      "  from tqdm.autonotebook import tqdm\n"
     ]
    }
   ],
   "source": [
    "# import libraries\n",
    "from time import time\n",
    "from beir import util\n",
    "from beir_reengineered import NewSentenceBERT\n",
    "from beir.datasets.data_loader import GenericDataLoader\n",
    "from beir.retrieval.evaluation import EvaluateRetrieval\n",
    "from beir.retrieval.search.dense import DenseRetrievalExactSearch as DRES\n",
    "import os, json, random"
   ]
  },
  {
   "cell_type": "code",
   "execution_count": 3,
   "metadata": {},
   "outputs": [],
   "source": [
    "#### Download nfcorpus.zip dataset and unzip the dataset\n",
    "url = \"https://public.ukp.informatik.tu-darmstadt.de/thakur/BEIR/datasets/{}.zip\".format(DATASET)\n",
    "out_dir = \"datasets\"\n",
    "data_path = util.download_and_unzip(url, out_dir)"
   ]
  },
  {
   "cell_type": "code",
   "execution_count": 4,
   "metadata": {},
   "outputs": [],
   "source": [
    "# import libraries\n",
    "from time import time\n",
    "from beir import util\n",
    "from beir_reengineered import NewSentenceBERT\n",
    "from beir.datasets.data_loader import GenericDataLoader\n",
    "from beir.retrieval.evaluation import EvaluateRetrieval\n",
    "from beir.retrieval.search.dense import DenseRetrievalExactSearch as DRES\n",
    "import os, json, random"
   ]
  },
  {
   "cell_type": "code",
   "execution_count": 5,
   "metadata": {},
   "outputs": [],
   "source": [
    "#### Download nfcorpus.zip dataset and unzip the dataset\n",
    "url = \"https://public.ukp.informatik.tu-darmstadt.de/thakur/BEIR/datasets/{}.zip\".format(DATASET)\n",
    "out_dir = \"datasets\"\n",
    "data_path = util.download_and_unzip(url, out_dir)"
   ]
  },
  {
   "cell_type": "code",
   "execution_count": 33,
   "metadata": {},
   "outputs": [
    {
     "name": "stderr",
     "output_type": "stream",
     "text": [
      "100%|██████████| 522931/522931 [00:01<00:00, 273298.52it/s]\n"
     ]
    }
   ],
   "source": [
    "#### Provide the data path where nfcorpus has been downloaded and unzipped to the data loader\n",
    "# data folder would contain these files:\n",
    "# (1) nfcorpus/corpus.jsonl  (format: jsonlines)\n",
    "# (2) nfcorpus/queries.jsonl (format: jsonlines)\n",
    "# (3) nfcorpus/qrels/test.tsv (format: tsv (\"\\t\"))\n",
    "\n",
    "corpus, queries, qrels = GenericDataLoader(data_folder=data_path).load(split=\"test\")\n"
   ]
  },
  {
   "cell_type": "code",
   "execution_count": 34,
   "metadata": {},
   "outputs": [
    {
     "name": "stdout",
     "output_type": "stream",
     "text": [
      "261465.5 5000.0\n"
     ]
    }
   ],
   "source": [
    "print(len(corpus)/2, len(queries)/2)"
   ]
  },
  {
   "cell_type": "code",
   "execution_count": 8,
   "metadata": {},
   "outputs": [],
   "source": [
    "#### Dense Retrieval using SBERT (Sentence-BERT) ####\n",
    "#### Provide any pretrained sentence-transformers model\n",
    "#### The model was fine-tuned using cosine-similarity.\n",
    "#### Complete list - https://www.sbert.net/docs/pretrained_models.html\n",
    "\n",
    "beir_sbert = NewSentenceBERT(sbert_model_name, device=device)\n",
    "model = DRES(beir_sbert, batch_size=256, corpus_chunk_size=512*9999)"
   ]
  },
  {
   "cell_type": "code",
   "execution_count": 9,
   "metadata": {},
   "outputs": [],
   "source": [
    "# Create sub-sample\n",
    "subset_of_queries = random.sample(queries.keys(), k_queries)\n",
    "queries = {qid: queries[qid] for qid in subset_of_queries}\n",
    "qrels = {qid: qrels[qid] for qid in subset_of_queries}\n",
    "true_documents = set([docid for qid in qrels for docid in qrels[qid]])\n",
    "false_documents = set(random.sample(list(set([docid for docid in corpus if docid not in true_documents])), k_documents))\n",
    "subset_of_corpus = true_documents | false_documents\n",
    "corpus = {docid: corpus[docid] for docid in subset_of_corpus}"
   ]
  },
  {
   "cell_type": "code",
   "execution_count": 10,
   "metadata": {},
   "outputs": [
    {
     "name": "stderr",
     "output_type": "stream",
     "text": [
      "Batches: 100%|██████████| 4/4 [00:17<00:00,  4.29s/it]\n"
     ]
    }
   ],
   "source": [
    "# Encode queries\n",
    "queries_l = [queries[qid] for qid in queries]\n",
    "query_embeddings = model.model.encode_queries(\n",
    "    queries_l,\n",
    "    batch_size=model.batch_size,\n",
    "    show_progress_bar=model.show_progress_bar,\n",
    "    convert_to_tensor=model.convert_to_tensor\n",
    ").cpu().numpy()"
   ]
  },
  {
   "cell_type": "code",
   "execution_count": 11,
   "metadata": {},
   "outputs": [
    {
     "name": "stderr",
     "output_type": "stream",
     "text": [
      "Batches: 100%|██████████| 211/211 [15:34<00:00,  4.43s/it]\n"
     ]
    }
   ],
   "source": [
    "# Encode documents\n",
    "corpus_ids = sorted(corpus, key=lambda k: len(corpus[k].get(\"title\", \"\") + corpus[k].get(\"text\", \"\")), reverse=True)\n",
    "corpus_l = [corpus[cid] for cid in corpus_ids]\n",
    "sub_corpus_embeddings = model.model.encode_corpus(\n",
    "    corpus_l,\n",
    "    batch_size=model.batch_size,\n",
    "    show_progress_bar=model.show_progress_bar,\n",
    "    convert_to_tensor=model.convert_to_tensor\n",
    ").cpu().numpy()"
   ]
  },
  {
   "cell_type": "code",
   "execution_count": 12,
   "metadata": {},
   "outputs": [],
   "source": [
    "# Save as new dataset\n",
    "os.makedirs(\"datasets/subquora/qrels\", exist_ok=True)\n",
    "with open(\"datasets/subquora/queries.jsonl\", \"w\") as f:\n",
    "    f.writelines([json.dumps({\"_id\": qid, \"text\": queries[qid], \"metadata\":{}})+\"\\n\" for qid in queries])\n",
    "with open(\"datasets/subquora/corpus.jsonl\", \"w\") as f:\n",
    "    f.writelines([json.dumps({\"_id\": docid, \"title\": corpus[docid].get(\"title\"), \"text\": corpus[docid].get(\"text\"), \"metadata\":{}})+\"\\n\" for docid in corpus])\n",
    "with open(\"datasets/subquora/qrels/test.tsv\", \"w\") as f:\n",
    "    f.write(\"query-id\\tcorpus-id\\tscore\\n\")\n",
    "    for qid in qrels:\n",
    "        for docid in qrels[qid]:\n",
    "            f.write(\"{}\\t{}\\t{}\\n\".format(qid, docid, qrels[qid][docid]))"
   ]
  },
  {
   "cell_type": "code",
   "execution_count": 13,
   "metadata": {},
   "outputs": [],
   "source": [
    "# # Save embeddings\n",
    "corpus_embeddings_dict = dict(zip(corpus_ids, sub_corpus_embeddings))\n",
    "query_embeddings_dict = dict(zip(queries.keys(), query_embeddings))\n",
    "import pickle\n",
    "\n",
    "with open(\"datasets/subquora/corpus_embeddings_half.pkl\", \"wb\") as f:\n",
    "    pickle.dump(corpus_embeddings_dict, f)\n",
    "with open(\"datasets/subquora/query_embeddings_half.pkl\", \"wb\") as f:\n",
    "    pickle.dump(query_embeddings_dict, f)"
   ]
  },
  {
   "cell_type": "markdown",
   "metadata": {},
   "source": [
    "10th of data\n",
    "k_queries = 1000\n",
    "k_documents = 52293\n",
    "\n",
    "half of data \n",
    "k_queries = 5000\n",
    "k_documents = 261465"
   ]
  },
  {
   "cell_type": "code",
   "execution_count": 14,
   "metadata": {},
   "outputs": [],
   "source": [
    "# import os\n",
    "\n",
    "# # List files in the directory\n",
    "# files = os.listdir(\"datasets/subquora\")\n",
    "\n",
    "# # Check if the file is in the list\n",
    "# if \"query_embeddings.pkl\" in files:\n",
    "#     print(\"File found in directory.\")\n",
    "# else:\n",
    "#     print(\"File not found in directory.\")\n"
   ]
  },
  {
   "cell_type": "code",
   "execution_count": 15,
   "metadata": {},
   "outputs": [],
   "source": [
    "# import pickle\n",
    "# with open(\"datasets/subquora/corpus_embeddings.pkl\", \"rb\") as f:\n",
    "#         corpus_embeddings_test = pickle.load(f)\n",
    "#         print(type(corpus_embeddings_test))\n",
    "# corpus_embeddings_test"
   ]
  },
  {
   "cell_type": "code",
   "execution_count": 16,
   "metadata": {},
   "outputs": [],
   "source": [
    "# with open(\"datasets/subquora/query_embeddings.pkl\", \"rb\") as f:\n",
    "#         query_embeddings_test = pickle.load(f)\n",
    "#         print(type(query_embeddings_test))\n",
    "# query_embeddings_test\n",
    "# <class 'dict'>\n",
    "# {'148989': array([-5.42879179e-02, -1.91017106e-01, -1.20709697e-02,  2.05447242e-01,\n",
    "#          4.04155254e-01,  2.48869240e-01, -4.52450693e-01,  1.38501331e-01,\n",
    "#         -2.10237205e-01, -1.51516631e-01,  4.76916820e-01,  3.10554087e-01,"
   ]
  },
  {
   "cell_type": "code",
   "execution_count": 17,
   "metadata": {},
   "outputs": [],
   "source": [
    "# query_embeddings_test\n",
    "# # query_ids = list(query_embeddings_test.keys())\n",
    "# # print(query_ids)\n",
    "# # corpus_ids = sorted(query_ids, reverse=True)\n",
    "# # corpus_ids\n",
    "\n",
    "# import numpy as np\n",
    "\n",
    "# max_decimal_places = 0\n",
    "\n",
    "# for key, array in query_embeddings_test.items():\n",
    "#     for element in array:\n",
    "#         decimal_places = len(str(element).split('.')[1])\n",
    "#         if decimal_places > max_decimal_places:\n",
    "#             max_decimal_places = decimal_places\n",
    "\n",
    "# print(\"Maximum number of decimal places:\", max_decimal_places) # Maximum number of decimal places: 12"
   ]
  },
  {
   "cell_type": "markdown",
   "metadata": {},
   "source": [
    "# Part 2. (only sometimes) round embeddings"
   ]
  },
  {
   "cell_type": "code",
   "execution_count": 18,
   "metadata": {},
   "outputs": [],
   "source": [
    "from beir.retrieval.search import BaseSearch # type: ignore beir/retrieval/search/dense/exact_search.py\n",
    "from beir.util import cos_sim #beir/util.py\n",
    "import torch # type: ignore\n",
    "import numpy as np\n",
    "from typing import Dict\n",
    "import heapq\n",
    "import logging\n",
    "logger = logging.getLogger(__name__)"
   ]
  },
  {
   "cell_type": "code",
   "execution_count": 19,
   "metadata": {},
   "outputs": [],
   "source": [
    "# ExperiementRetrievalExactSearch is parent class for any model we are using for our experiement that can be used for retrieval\n",
    "# Abstract class is BaseSearch\n",
    "class ExperiementRetrievalExactSearch(BaseSearch):\n",
    "    def __init__(\n",
    "            self,\n",
    "            model,\n",
    "            path_corpus_embeddings: str = \"datasets/subquora/corpus_embeddings.pkl\",\n",
    "            path_query_embeddings: str = \"datasets/subquora/query_embeddings.pkl\",\n",
    "            **kwargs):\n",
    "        #model is class should do nothing\n",
    "        self.model = model\n",
    "        self.path_corpus_embeddings = path_corpus_embeddings\n",
    "        self.path_query_embeddings = path_query_embeddings\n",
    "        self.show_progress_bar = kwargs.get(\"show_progress_bar\", True)\n",
    "        self.convert_to_tensor = kwargs.get(\"convert_to_tensor\", True)\n",
    "        self.results = {}\n",
    "\n",
    "        logger.info(\"Load in Encoded Queries and Corpus from Pickle...\")\n",
    "        # Verify file existence\n",
    "        if not os.path.exists(self.path_corpus_embeddings):\n",
    "            raise FileNotFoundError(f\"File '{self.path_corpus_embeddings}' not found.\")\n",
    "        if not os.path.exists(self.path_query_embeddings):\n",
    "            raise FileNotFoundError(f\"File '{self.path_query_embeddings}' not found.\")\n",
    "\n",
    "        with open(self.path_query_embeddings, \"rb\") as f:\n",
    "            self.query_embeddings = pickle.load(f)\n",
    "\n",
    "        with open(self.path_corpus_embeddings, \"rb\") as f:\n",
    "            self.corpus_embeddings = pickle.load(f)\n",
    "\n",
    "\n",
    "\n",
    "    def add_rounding(self, rounding_decimal: int) -> None:\n",
    "        # rounding decimal\n",
    "        if rounding_decimal < 16:\n",
    "            logger.info(\"Rounding decimal places of Queries and Corpus...\")\n",
    "            for key, value in self.query_embeddings.items():\n",
    "                self.query_embeddings[key] = np.round(value, decimals=rounding_decimal)\n",
    "\n",
    "            for key, value in self.corpus_embeddings.items():\n",
    "                self.corpus_embeddings[key] = np.round(value, decimals=rounding_decimal)\n",
    "\n",
    "    def add_noise(self, rounding_decimal: int) -> None:\n",
    "        logger.info(\"Adding Noise to Queries and Corpus...\")\n",
    "        for key, value in self.query_embeddings.items():\n",
    "            self.query_embeddings[key] += np.random.random() / 10**rounding_decimal\n",
    "\n",
    "        for key, value in self.corpus_embeddings.items():\n",
    "            self.corpus_embeddings[key] += np.random.random() / 10**rounding_decimal\n",
    "\n",
    "\n",
    "    def search(self,\n",
    "               corpus: Dict[str, Dict[str, str]],\n",
    "               queries: Dict[str, str],\n",
    "               top_k: int,\n",
    "               score_function: str,\n",
    "               return_sorted: bool = False,\n",
    "               **kwargs) -> Dict[str, Dict[str, float]]:\n",
    "        # Runs semantic search against the corpus embeddings\n",
    "        # Returns a ranked list with the corpus ids\n",
    "\n",
    "        query_ids = list(self.query_embeddings.keys())\n",
    "        self.results = {qid: {} for qid in query_ids}\n",
    "\n",
    "\n",
    "        logger.info(\"Sorting Corpus by document length (Longest first)...\")\n",
    "        corpus_ids = sorted(list(self.corpus_embeddings.keys()), reverse=True)\n",
    "\n",
    "        result_heaps = {qid: [] for qid in query_ids}  # Keep only the top-k docs for each query\n",
    "\n",
    "        # Convert dictionary values to PyTorch tensors\n",
    "        corpus_tensors = [torch.tensor(embedding) for embedding in self.corpus_embeddings.values()]\n",
    "        query_tensors = [torch.tensor(embedding) for embedding in self.query_embeddings.values()]\n",
    "        # Stack tensors along a new dimension (batch dimension)\n",
    "        corpus_embeddings_tensor = torch.stack(corpus_tensors)\n",
    "        query_embeddings_tensor = torch.stack(query_tensors)\n",
    "\n",
    "        # Compute similarites using  cosine-similarity\n",
    "        cos_scores = cos_sim(query_embeddings_tensor, corpus_embeddings_tensor)\n",
    "        cos_scores[torch.isnan(cos_scores)] = -1\n",
    "\n",
    "        # Get top-k values\n",
    "        cos_scores_top_k_values, cos_scores_top_k_idx = torch.topk(cos_scores, min(top_k+1, len(cos_scores[1])), dim=1, largest=True, sorted=return_sorted)\n",
    "        cos_scores_top_k_values = cos_scores_top_k_values.cpu().tolist()\n",
    "        cos_scores_top_k_idx = cos_scores_top_k_idx.cpu().tolist()\n",
    "\n",
    "        for query_itr in range(len(query_embeddings_tensor)):\n",
    "            query_id = query_ids[query_itr]\n",
    "            for sub_corpus_id, score in zip(cos_scores_top_k_idx[query_itr], cos_scores_top_k_values[query_itr]):\n",
    "                corpus_id = corpus_ids[sub_corpus_id]\n",
    "                if corpus_id != query_id:\n",
    "                    if len(result_heaps[query_id]) < top_k:\n",
    "                        # Push item on the heap\n",
    "                        heapq.heappush(result_heaps[query_id], (score, corpus_id))\n",
    "                    else:\n",
    "                        # If item is larger than the smallest in the heap, push it on the heap then pop the smallest element\n",
    "                        heapq.heappushpop(result_heaps[query_id], (score, corpus_id))\n",
    "\n",
    "        for qid in result_heaps:\n",
    "            for score, corpus_id in result_heaps[qid]:\n",
    "                self.results[qid][corpus_id] = score\n",
    "\n",
    "        return self.results"
   ]
  },
  {
   "cell_type": "code",
   "execution_count": 20,
   "metadata": {},
   "outputs": [],
   "source": [
    "# #### Load the SBERT model and retrieve using cosine-similarity\n",
    "# model = ExperiementRetrievalExactSearch(beir_sbert)\n",
    "# retriever = EvaluateRetrieval(model, score_function=\"cos_sim\") # or \"cos_sim\" for cosine similarity\n",
    "# results = retriever.retrieve(corpus, queries)\n",
    "\n"
   ]
  },
  {
   "cell_type": "code",
   "execution_count": 21,
   "metadata": {},
   "outputs": [
    {
     "name": "stdout",
     "output_type": "stream",
     "text": [
      "{'NDCG@1': 0.0, 'NDCG@3': 0.0, 'NDCG@5': 0.0, 'NDCG@10': 0.0, 'NDCG@100': 0.0, 'NDCG@1000': 0.0105} {'MAP@1': 0.0, 'MAP@3': 0.0, 'MAP@5': 0.0, 'MAP@10': 0.0, 'MAP@100': 0.0, 'MAP@1000': 0.00014} {'Recall@1': 0.0, 'Recall@3': 0.0, 'Recall@5': 0.0, 'Recall@10': 0.0, 'Recall@100': 0.0, 'Recall@1000': 0.08791} {'P@1': 0.0, 'P@3': 0.0, 'P@5': 0.0, 'P@10': 0.0, 'P@100': 0.0, 'P@1000': 0.00015}\n"
     ]
    }
   ],
   "source": [
    "# #### Evaluate your model with NDCG@k, MAP@K, Recall@K and Precision@K  where k = [1,3,5,10,100,1000]\n",
    "# ndcg, _map, recall, precision = retriever.evaluate(qrels, results, retriever.k_values)\n",
    "# print(ndcg, _map, recall, precision )"
   ]
  },
  {
   "cell_type": "code",
   "execution_count": 22,
   "metadata": {},
   "outputs": [
    {
     "name": "stdout",
     "output_type": "stream",
     "text": [
      "decimal_places: 12 {'NDCG@1': 0.0, 'NDCG@3': 0.0, 'NDCG@5': 0.0, 'NDCG@10': 0.0, 'NDCG@100': 0.00022, 'NDCG@1000': 0.00197} {'MAP@1': 0.0, 'MAP@3': 0.0, 'MAP@5': 0.0, 'MAP@10': 0.0, 'MAP@100': 2e-05, 'MAP@1000': 6e-05} {'Recall@1': 0.0, 'Recall@3': 0.0, 'Recall@5': 0.0, 'Recall@10': 0.0, 'Recall@100': 0.00125, 'Recall@1000': 0.01481} {'P@1': 0.0, 'P@3': 0.0, 'P@5': 0.0, 'P@10': 0.0, 'P@100': 2e-05, 'P@1000': 2e-05}\n",
      "decimal_places: 11 {'NDCG@1': 0.0, 'NDCG@3': 0.0, 'NDCG@5': 0.0, 'NDCG@10': 0.0, 'NDCG@100': 0.00022, 'NDCG@1000': 0.00197} {'MAP@1': 0.0, 'MAP@3': 0.0, 'MAP@5': 0.0, 'MAP@10': 0.0, 'MAP@100': 2e-05, 'MAP@1000': 6e-05} {'Recall@1': 0.0, 'Recall@3': 0.0, 'Recall@5': 0.0, 'Recall@10': 0.0, 'Recall@100': 0.00125, 'Recall@1000': 0.01481} {'P@1': 0.0, 'P@3': 0.0, 'P@5': 0.0, 'P@10': 0.0, 'P@100': 2e-05, 'P@1000': 2e-05}\n",
      "decimal_places: 10 {'NDCG@1': 0.0, 'NDCG@3': 0.0, 'NDCG@5': 0.0, 'NDCG@10': 0.0, 'NDCG@100': 0.00022, 'NDCG@1000': 0.00197} {'MAP@1': 0.0, 'MAP@3': 0.0, 'MAP@5': 0.0, 'MAP@10': 0.0, 'MAP@100': 2e-05, 'MAP@1000': 6e-05} {'Recall@1': 0.0, 'Recall@3': 0.0, 'Recall@5': 0.0, 'Recall@10': 0.0, 'Recall@100': 0.00125, 'Recall@1000': 0.01481} {'P@1': 0.0, 'P@3': 0.0, 'P@5': 0.0, 'P@10': 0.0, 'P@100': 2e-05, 'P@1000': 2e-05}\n",
      "decimal_places: 9 {'NDCG@1': 0.0, 'NDCG@3': 0.0, 'NDCG@5': 0.0, 'NDCG@10': 0.0, 'NDCG@100': 0.00022, 'NDCG@1000': 0.00197} {'MAP@1': 0.0, 'MAP@3': 0.0, 'MAP@5': 0.0, 'MAP@10': 0.0, 'MAP@100': 2e-05, 'MAP@1000': 6e-05} {'Recall@1': 0.0, 'Recall@3': 0.0, 'Recall@5': 0.0, 'Recall@10': 0.0, 'Recall@100': 0.00125, 'Recall@1000': 0.01481} {'P@1': 0.0, 'P@3': 0.0, 'P@5': 0.0, 'P@10': 0.0, 'P@100': 2e-05, 'P@1000': 2e-05}\n",
      "decimal_places: 8 {'NDCG@1': 0.0, 'NDCG@3': 0.0, 'NDCG@5': 0.0, 'NDCG@10': 0.0, 'NDCG@100': 0.00022, 'NDCG@1000': 0.00197} {'MAP@1': 0.0, 'MAP@3': 0.0, 'MAP@5': 0.0, 'MAP@10': 0.0, 'MAP@100': 2e-05, 'MAP@1000': 6e-05} {'Recall@1': 0.0, 'Recall@3': 0.0, 'Recall@5': 0.0, 'Recall@10': 0.0, 'Recall@100': 0.00125, 'Recall@1000': 0.01481} {'P@1': 0.0, 'P@3': 0.0, 'P@5': 0.0, 'P@10': 0.0, 'P@100': 2e-05, 'P@1000': 2e-05}\n",
      "decimal_places: 7 {'NDCG@1': 0.0, 'NDCG@3': 0.0, 'NDCG@5': 0.0, 'NDCG@10': 0.0, 'NDCG@100': 0.00022, 'NDCG@1000': 0.00197} {'MAP@1': 0.0, 'MAP@3': 0.0, 'MAP@5': 0.0, 'MAP@10': 0.0, 'MAP@100': 2e-05, 'MAP@1000': 6e-05} {'Recall@1': 0.0, 'Recall@3': 0.0, 'Recall@5': 0.0, 'Recall@10': 0.0, 'Recall@100': 0.00125, 'Recall@1000': 0.01481} {'P@1': 0.0, 'P@3': 0.0, 'P@5': 0.0, 'P@10': 0.0, 'P@100': 2e-05, 'P@1000': 2e-05}\n",
      "decimal_places: 6 {'NDCG@1': 0.0, 'NDCG@3': 0.0, 'NDCG@5': 0.0, 'NDCG@10': 0.0, 'NDCG@100': 0.00022, 'NDCG@1000': 0.00197} {'MAP@1': 0.0, 'MAP@3': 0.0, 'MAP@5': 0.0, 'MAP@10': 0.0, 'MAP@100': 2e-05, 'MAP@1000': 6e-05} {'Recall@1': 0.0, 'Recall@3': 0.0, 'Recall@5': 0.0, 'Recall@10': 0.0, 'Recall@100': 0.00125, 'Recall@1000': 0.01481} {'P@1': 0.0, 'P@3': 0.0, 'P@5': 0.0, 'P@10': 0.0, 'P@100': 2e-05, 'P@1000': 2e-05}\n",
      "decimal_places: 5 {'NDCG@1': 0.0, 'NDCG@3': 0.0, 'NDCG@5': 0.0, 'NDCG@10': 0.0, 'NDCG@100': 0.00022, 'NDCG@1000': 0.00197} {'MAP@1': 0.0, 'MAP@3': 0.0, 'MAP@5': 0.0, 'MAP@10': 0.0, 'MAP@100': 2e-05, 'MAP@1000': 6e-05} {'Recall@1': 0.0, 'Recall@3': 0.0, 'Recall@5': 0.0, 'Recall@10': 0.0, 'Recall@100': 0.00125, 'Recall@1000': 0.01481} {'P@1': 0.0, 'P@3': 0.0, 'P@5': 0.0, 'P@10': 0.0, 'P@100': 2e-05, 'P@1000': 2e-05}\n",
      "decimal_places: 4 {'NDCG@1': 0.0, 'NDCG@3': 0.0, 'NDCG@5': 0.0, 'NDCG@10': 0.0, 'NDCG@100': 0.00022, 'NDCG@1000': 0.00197} {'MAP@1': 0.0, 'MAP@3': 0.0, 'MAP@5': 0.0, 'MAP@10': 0.0, 'MAP@100': 2e-05, 'MAP@1000': 6e-05} {'Recall@1': 0.0, 'Recall@3': 0.0, 'Recall@5': 0.0, 'Recall@10': 0.0, 'Recall@100': 0.00125, 'Recall@1000': 0.01481} {'P@1': 0.0, 'P@3': 0.0, 'P@5': 0.0, 'P@10': 0.0, 'P@100': 2e-05, 'P@1000': 2e-05}\n",
      "decimal_places: 3 {'NDCG@1': 0.0, 'NDCG@3': 0.0, 'NDCG@5': 0.0, 'NDCG@10': 0.0, 'NDCG@100': 0.00031, 'NDCG@1000': 0.00197} {'MAP@1': 0.0, 'MAP@3': 0.0, 'MAP@5': 0.0, 'MAP@10': 0.0, 'MAP@100': 2e-05, 'MAP@1000': 6e-05} {'Recall@1': 0.0, 'Recall@3': 0.0, 'Recall@5': 0.0, 'Recall@10': 0.0, 'Recall@100': 0.00175, 'Recall@1000': 0.01481} {'P@1': 0.0, 'P@3': 0.0, 'P@5': 0.0, 'P@10': 0.0, 'P@100': 3e-05, 'P@1000': 2e-05}\n",
      "decimal_places: 2 {'NDCG@1': 0.0, 'NDCG@3': 0.0, 'NDCG@5': 0.0, 'NDCG@10': 0.0, 'NDCG@100': 0.00022, 'NDCG@1000': 0.00197} {'MAP@1': 0.0, 'MAP@3': 0.0, 'MAP@5': 0.0, 'MAP@10': 0.0, 'MAP@100': 2e-05, 'MAP@1000': 6e-05} {'Recall@1': 0.0, 'Recall@3': 0.0, 'Recall@5': 0.0, 'Recall@10': 0.0, 'Recall@100': 0.00125, 'Recall@1000': 0.01481} {'P@1': 0.0, 'P@3': 0.0, 'P@5': 0.0, 'P@10': 0.0, 'P@100': 2e-05, 'P@1000': 2e-05}\n",
      "decimal_places: 1 {'NDCG@1': 0.0, 'NDCG@3': 0.0, 'NDCG@5': 0.0, 'NDCG@10': 0.0, 'NDCG@100': 0.00022, 'NDCG@1000': 0.00179} {'MAP@1': 0.0, 'MAP@3': 0.0, 'MAP@5': 0.0, 'MAP@10': 0.0, 'MAP@100': 2e-05, 'MAP@1000': 5e-05} {'Recall@1': 0.0, 'Recall@3': 0.0, 'Recall@5': 0.0, 'Recall@10': 0.0, 'Recall@100': 0.00125, 'Recall@1000': 0.01346} {'P@1': 0.0, 'P@3': 0.0, 'P@5': 0.0, 'P@10': 0.0, 'P@100': 2e-05, 'P@1000': 2e-05}\n",
      "decimal_places: 0 {'NDCG@1': 0.0, 'NDCG@3': 0.0, 'NDCG@5': 0.00039, 'NDCG@10': 0.00039, 'NDCG@100': 0.00098, 'NDCG@1000': 0.00296} {'MAP@1': 0.0, 'MAP@3': 0.0, 'MAP@5': 0.0002, 'MAP@10': 0.0002, 'MAP@100': 0.0003, 'MAP@1000': 0.00034} {'Recall@1': 0.0, 'Recall@3': 0.0, 'Recall@5': 0.001, 'Recall@10': 0.001, 'Recall@100': 0.00364, 'Recall@1000': 0.01851} {'P@1': 0.0, 'P@3': 0.0, 'P@5': 0.0002, 'P@10': 0.0001, 'P@100': 6e-05, 'P@1000': 4e-05}\n"
     ]
    }
   ],
   "source": [
    "model = ExperiementRetrievalExactSearch(\n",
    "    beir_sbert,\n",
    "    path_corpus_embeddings = \"datasets/subquora/corpus_embeddings_half.pkl\",\n",
    "    path_query_embeddings= \"datasets/subquora/query_embeddings_half.pkl\") # This can go outside the loop\n",
    "rounding_recalls = []\n",
    "rounding_decimals = range(12,-1,-1)\n",
    "for decimal in rounding_decimals:\n",
    "    # print(decimal, type(decimal))\n",
    "    model.add_rounding(decimal)\n",
    "    retriever = EvaluateRetrieval(model, score_function=\"cos_sim\")\n",
    "    results = retriever.retrieve(corpus, queries)\n",
    "    ndcg, _map, recall, precision = retriever.evaluate(qrels, results, retriever.k_values)\n",
    "    print(\"decimal_places:\", decimal , ndcg, _map, recall, precision )\n",
    "    #recall@100 matters mostr, save to array for plotting\n",
    "    rounding_recalls.append(recall)\n"
   ]
  },
  {
   "cell_type": "code",
   "execution_count": 23,
   "metadata": {},
   "outputs": [
    {
     "name": "stdout",
     "output_type": "stream",
     "text": [
      "noise decimal: 12 {'NDCG@1': 0.0, 'NDCG@3': 0.0, 'NDCG@5': 0.00039, 'NDCG@10': 0.00039, 'NDCG@100': 0.00098, 'NDCG@1000': 0.00296} {'MAP@1': 0.0, 'MAP@3': 0.0, 'MAP@5': 0.0002, 'MAP@10': 0.0002, 'MAP@100': 0.0003, 'MAP@1000': 0.00034} {'Recall@1': 0.0, 'Recall@3': 0.0, 'Recall@5': 0.001, 'Recall@10': 0.001, 'Recall@100': 0.00364, 'Recall@1000': 0.01851} {'P@1': 0.0, 'P@3': 0.0, 'P@5': 0.0002, 'P@10': 0.0001, 'P@100': 6e-05, 'P@1000': 4e-05}\n",
      "noise decimal: 11 {'NDCG@1': 0.0, 'NDCG@3': 0.0, 'NDCG@5': 0.00039, 'NDCG@10': 0.00039, 'NDCG@100': 0.00098, 'NDCG@1000': 0.00296} {'MAP@1': 0.0, 'MAP@3': 0.0, 'MAP@5': 0.0002, 'MAP@10': 0.0002, 'MAP@100': 0.0003, 'MAP@1000': 0.00034} {'Recall@1': 0.0, 'Recall@3': 0.0, 'Recall@5': 0.001, 'Recall@10': 0.001, 'Recall@100': 0.00364, 'Recall@1000': 0.01851} {'P@1': 0.0, 'P@3': 0.0, 'P@5': 0.0002, 'P@10': 0.0001, 'P@100': 6e-05, 'P@1000': 4e-05}\n",
      "noise decimal: 10 {'NDCG@1': 0.0, 'NDCG@3': 0.0, 'NDCG@5': 0.00039, 'NDCG@10': 0.00039, 'NDCG@100': 0.00098, 'NDCG@1000': 0.00296} {'MAP@1': 0.0, 'MAP@3': 0.0, 'MAP@5': 0.0002, 'MAP@10': 0.0002, 'MAP@100': 0.0003, 'MAP@1000': 0.00034} {'Recall@1': 0.0, 'Recall@3': 0.0, 'Recall@5': 0.001, 'Recall@10': 0.001, 'Recall@100': 0.00364, 'Recall@1000': 0.01851} {'P@1': 0.0, 'P@3': 0.0, 'P@5': 0.0002, 'P@10': 0.0001, 'P@100': 6e-05, 'P@1000': 4e-05}\n",
      "noise decimal: 9 {'NDCG@1': 0.0, 'NDCG@3': 0.0, 'NDCG@5': 0.00039, 'NDCG@10': 0.00039, 'NDCG@100': 0.00098, 'NDCG@1000': 0.00296} {'MAP@1': 0.0, 'MAP@3': 0.0, 'MAP@5': 0.0002, 'MAP@10': 0.0002, 'MAP@100': 0.0003, 'MAP@1000': 0.00034} {'Recall@1': 0.0, 'Recall@3': 0.0, 'Recall@5': 0.001, 'Recall@10': 0.001, 'Recall@100': 0.00364, 'Recall@1000': 0.01851} {'P@1': 0.0, 'P@3': 0.0, 'P@5': 0.0002, 'P@10': 0.0001, 'P@100': 6e-05, 'P@1000': 4e-05}\n",
      "noise decimal: 8 {'NDCG@1': 0.0, 'NDCG@3': 0.0, 'NDCG@5': 0.00039, 'NDCG@10': 0.00039, 'NDCG@100': 0.00098, 'NDCG@1000': 0.0029} {'MAP@1': 0.0, 'MAP@3': 0.0, 'MAP@5': 0.0002, 'MAP@10': 0.0002, 'MAP@100': 0.0003, 'MAP@1000': 0.00034} {'Recall@1': 0.0, 'Recall@3': 0.0, 'Recall@5': 0.001, 'Recall@10': 0.001, 'Recall@100': 0.00364, 'Recall@1000': 0.01801} {'P@1': 0.0, 'P@3': 0.0, 'P@5': 0.0002, 'P@10': 0.0001, 'P@100': 6e-05, 'P@1000': 3e-05}\n",
      "noise decimal: 7 {'NDCG@1': 0.0, 'NDCG@3': 0.0, 'NDCG@5': 0.00039, 'NDCG@10': 0.00039, 'NDCG@100': 0.00098, 'NDCG@1000': 0.0028} {'MAP@1': 0.0, 'MAP@3': 0.0, 'MAP@5': 0.0002, 'MAP@10': 0.0002, 'MAP@100': 0.0003, 'MAP@1000': 0.00034} {'Recall@1': 0.0, 'Recall@3': 0.0, 'Recall@5': 0.001, 'Recall@10': 0.001, 'Recall@100': 0.00364, 'Recall@1000': 0.01701} {'P@1': 0.0, 'P@3': 0.0, 'P@5': 0.0002, 'P@10': 0.0001, 'P@100': 6e-05, 'P@1000': 3e-05}\n",
      "noise decimal: 6 {'NDCG@1': 0.0, 'NDCG@3': 0.0, 'NDCG@5': 0.0, 'NDCG@10': 0.00062, 'NDCG@100': 0.00087, 'NDCG@1000': 0.00286} {'MAP@1': 0.0, 'MAP@3': 0.0, 'MAP@5': 0.0, 'MAP@10': 0.00024, 'MAP@100': 0.00026, 'MAP@1000': 0.0003} {'Recall@1': 0.0, 'Recall@3': 0.0, 'Recall@5': 0.0, 'Recall@10': 0.002, 'Recall@100': 0.00331, 'Recall@1000': 0.01801} {'P@1': 0.0, 'P@3': 0.0, 'P@5': 0.0, 'P@10': 0.0002, 'P@100': 5e-05, 'P@1000': 3e-05}\n",
      "noise decimal: 5 {'NDCG@1': 0.0, 'NDCG@3': 0.0, 'NDCG@5': 0.0, 'NDCG@10': 0.00067, 'NDCG@100': 0.00084, 'NDCG@1000': 0.0029} {'MAP@1': 0.0, 'MAP@3': 0.0, 'MAP@5': 0.0, 'MAP@10': 0.00029, 'MAP@100': 0.0003, 'MAP@1000': 0.00035} {'Recall@1': 0.0, 'Recall@3': 0.0, 'Recall@5': 0.0, 'Recall@10': 0.002, 'Recall@100': 0.00264, 'Recall@1000': 0.01801} {'P@1': 0.0, 'P@3': 0.0, 'P@5': 0.0, 'P@10': 0.0002, 'P@100': 5e-05, 'P@1000': 3e-05}\n",
      "noise decimal: 4 {'NDCG@1': 0.0, 'NDCG@3': 0.0, 'NDCG@5': 0.0, 'NDCG@10': 0.00032, 'NDCG@100': 0.00086, 'NDCG@1000': 0.00284} {'MAP@1': 0.0, 'MAP@3': 0.0, 'MAP@5': 0.0, 'MAP@10': 0.00013, 'MAP@100': 0.00023, 'MAP@1000': 0.00027} {'Recall@1': 0.0, 'Recall@3': 0.0, 'Recall@5': 0.0, 'Recall@10': 0.001, 'Recall@100': 0.00314, 'Recall@1000': 0.01801} {'P@1': 0.0, 'P@3': 0.0, 'P@5': 0.0, 'P@10': 0.0001, 'P@100': 6e-05, 'P@1000': 3e-05}\n",
      "noise decimal: 3 {'NDCG@1': 0.0, 'NDCG@3': 0.0, 'NDCG@5': 0.0, 'NDCG@10': 0.00036, 'NDCG@100': 0.0008, 'NDCG@1000': 0.00275} {'MAP@1': 0.0, 'MAP@3': 0.0, 'MAP@5': 0.0, 'MAP@10': 0.00017, 'MAP@100': 0.00026, 'MAP@1000': 0.00031} {'Recall@1': 0.0, 'Recall@3': 0.0, 'Recall@5': 0.0, 'Recall@10': 0.001, 'Recall@100': 0.00264, 'Recall@1000': 0.01701} {'P@1': 0.0, 'P@3': 0.0, 'P@5': 0.0, 'P@10': 0.0001, 'P@100': 5e-05, 'P@1000': 3e-05}\n",
      "noise decimal: 2 {'NDCG@1': 0.0, 'NDCG@3': 0.0005, 'NDCG@5': 0.0005, 'NDCG@10': 0.00082, 'NDCG@100': 0.00091, 'NDCG@1000': 0.00294} {'MAP@1': 0.0, 'MAP@3': 0.00033, 'MAP@5': 0.00033, 'MAP@10': 0.00046, 'MAP@100': 0.00046, 'MAP@1000': 0.00051} {'Recall@1': 0.0, 'Recall@3': 0.001, 'Recall@5': 0.001, 'Recall@10': 0.002, 'Recall@100': 0.00231, 'Recall@1000': 0.01701} {'P@1': 0.0, 'P@3': 0.00033, 'P@5': 0.0002, 'P@10': 0.0002, 'P@100': 4e-05, 'P@1000': 3e-05}\n",
      "noise decimal: 1 {'NDCG@1': 0.0, 'NDCG@3': 0.0005, 'NDCG@5': 0.0005, 'NDCG@10': 0.0005, 'NDCG@100': 0.00081, 'NDCG@1000': 0.00284} {'MAP@1': 0.0, 'MAP@3': 0.00033, 'MAP@5': 0.00033, 'MAP@10': 0.00033, 'MAP@100': 0.00035, 'MAP@1000': 0.00041} {'Recall@1': 0.0, 'Recall@3': 0.001, 'Recall@5': 0.001, 'Recall@10': 0.001, 'Recall@100': 0.0026, 'Recall@1000': 0.01713} {'P@1': 0.0, 'P@3': 0.00033, 'P@5': 0.0002, 'P@10': 0.0001, 'P@100': 5e-05, 'P@1000': 4e-05}\n",
      "noise decimal: 0 {'NDCG@1': 0.0, 'NDCG@3': 0.0, 'NDCG@5': 0.0, 'NDCG@10': 0.0, 'NDCG@100': 0.00032, 'NDCG@1000': 0.00307} {'MAP@1': 0.0, 'MAP@3': 0.0, 'MAP@5': 0.0, 'MAP@10': 0.0, 'MAP@100': 4e-05, 'MAP@1000': 9e-05} {'Recall@1': 0.0, 'Recall@3': 0.0, 'Recall@5': 0.0, 'Recall@10': 0.0, 'Recall@100': 0.00157, 'Recall@1000': 0.02375} {'P@1': 0.0, 'P@3': 0.0, 'P@5': 0.0, 'P@10': 0.0, 'P@100': 3e-05, 'P@1000': 4e-05}\n"
     ]
    }
   ],
   "source": [
    "noise_recalls = []\n",
    "noise_decimals = range(12,-1,-1)\n",
    "for decimal in range(12,-1,-1):\n",
    "    # print(decimal, type(decimal))\n",
    "    model.add_noise(decimal)\n",
    "    # model.noise()\n",
    "    retriever = EvaluateRetrieval(model, score_function=\"cos_sim\")\n",
    "    results = retriever.retrieve(corpus, queries)\n",
    "    ndcg, _map, recall, precision = retriever.evaluate(qrels, results, retriever.k_values)\n",
    "    print(\"noise decimal:\", decimal , ndcg, _map, recall, precision )\n",
    "    noise_recalls.append(recall)"
   ]
  },
  {
   "cell_type": "code",
   "execution_count": 30,
   "metadata": {},
   "outputs": [],
   "source": [
    "import csv\n",
    "# Headers for CSV file\n",
    "headers = ['Rounding_Decimals', 'Recall@100', 'Recall@1000']\n",
    "\n",
    "# Create and write data to CSV file\n",
    "with open('results/rounding_recalls_half.csv', 'w', newline='') as file:\n",
    "    writer = csv.DictWriter(file, fieldnames=headers)\n",
    "    writer.writeheader()\n",
    "\n",
    "    for rounding_decimal, rounding_recall in zip(rounding_decimals, rounding_recalls):\n",
    "        row_data = {\n",
    "            'Rounding_Decimals': rounding_decimal,\n",
    "            'Recall@100': rounding_recall['Recall@100'],\n",
    "            'Recall@1000': rounding_recall['Recall@1000']\n",
    "        }\n",
    "        writer.writerow(row_data)"
   ]
  },
  {
   "cell_type": "code",
   "execution_count": 31,
   "metadata": {},
   "outputs": [],
   "source": [
    "# Headers for CSV file\n",
    "headers = ['Rounding_Decimals', 'Recall@100', 'Recall@1000']\n",
    "\n",
    "# Create and write data to CSV file\n",
    "with open('results/noise_recall_half.csv', 'w', newline='') as file:\n",
    "    writer = csv.DictWriter(file, fieldnames=headers)\n",
    "    writer.writeheader()\n",
    "\n",
    "    for rounding_decimal, noise_recall in zip(rounding_decimals, noise_recalls):\n",
    "        row_data = {\n",
    "            'Rounding_Decimals': rounding_decimal,\n",
    "            'Recall@100': noise_recall['Recall@100'],\n",
    "            'Recall@1000': noise_recall['Recall@1000']\n",
    "        }\n",
    "        writer.writerow(row_data)"
   ]
  },
  {
   "cell_type": "code",
   "execution_count": null,
   "metadata": {},
   "outputs": [],
   "source": []
  },
  {
   "cell_type": "code",
   "execution_count": 24,
   "metadata": {},
   "outputs": [],
   "source": [
    "# PSIRetrievalExactSearch is parent class for any model we are using for our experiement that can be used for retrieval\n",
    "# Abstract class is BaseSearch\n",
    "class PSIRetrievalExactSearch(BaseSearch):\n",
    "    def __init__(\n",
    "            self,\n",
    "            model,\n",
    "            path_corpus_embeddings: str = \"datasets/subquora/corpus_embeddings.pkl\",\n",
    "            path_query_embeddings: str = \"datasets/subquora/query_embeddings.pkl\",\n",
    "            **kwargs):\n",
    "        #model is class should do nothing\n",
    "        self.model = model\n",
    "        self.path_corpus_embeddings = path_corpus_embeddings\n",
    "        self.path_query_embeddings = path_query_embeddings\n",
    "        self.show_progress_bar = kwargs.get(\"show_progress_bar\", True)\n",
    "        self.convert_to_tensor = kwargs.get(\"convert_to_tensor\", True)\n",
    "        self.results = {}\n",
    "\n",
    "        logger.info(\"Load in Encoded Queries and Corpus from Pickle...\")\n",
    "        # Verify file existence\n",
    "        if not os.path.exists(self.path_corpus_embeddings):\n",
    "            raise FileNotFoundError(f\"File '{self.path_corpus_embeddings}' not found.\")\n",
    "        if not os.path.exists(self.path_query_embeddings):\n",
    "            raise FileNotFoundError(f\"File '{self.path_query_embeddings}' not found.\")\n",
    "\n",
    "        with open(self.path_query_embeddings, \"rb\") as f:\n",
    "            self.query_embeddings = pickle.load(f)\n",
    "\n",
    "        with open(self.path_corpus_embeddings, \"rb\") as f:\n",
    "            self.corpus_embeddings = pickle.load(f)\n",
    "\n",
    "    def search(self,\n",
    "               corpus: Dict[str, Dict[str, str]],\n",
    "               queries: Dict[str, str],\n",
    "               top_k: int,\n",
    "               score_function: str,\n",
    "               return_sorted: bool = False,\n",
    "               **kwargs) -> Dict[str, Dict[str, float]]:\n",
    "\n",
    "        query_ids = list(self.query_embeddings.keys())\n",
    "        self.results = {qid: {} for qid in query_ids}\n",
    "\n",
    "        corpus_set = set(self.corpus_embeddings)\n",
    "        query_set = set(self.query_embeddings)\n",
    "        overlap = query_set.intersection(corpus_set)\n",
    "\n",
    "\n",
    "        for qid in overlap:\n",
    "            for score, corpus_id in overlap[qid]:\n",
    "                self.results[qid][corpus_id] = 1\n",
    "\n",
    "        return self.results"
   ]
  }
 ],
 "metadata": {
  "kernelspec": {
   "display_name": "sentence_trans_venv",
   "language": "python",
   "name": "sentence_trans_venv"
  },
  "language_info": {
   "codemirror_mode": {
    "name": "ipython",
    "version": 3
   },
   "file_extension": ".py",
   "mimetype": "text/x-python",
   "name": "python",
   "nbconvert_exporter": "python",
   "pygments_lexer": "ipython3",
   "version": "3.8.10"
  }
 },
 "nbformat": 4,
 "nbformat_minor": 2
}
